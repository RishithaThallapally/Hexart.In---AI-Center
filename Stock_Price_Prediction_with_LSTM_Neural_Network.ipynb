{
  "nbformat": 4,
  "nbformat_minor": 0,
  "metadata": {
    "colab": {
      "provenance": [],
      "mount_file_id": "19ODj3jqoBTRpyztjrdq2C4o9b2PFurZY",
      "authorship_tag": "ABX9TyMw5zGELDYui7RNngiDjk83",
      "include_colab_link": true
    },
    "kernelspec": {
      "name": "python3",
      "display_name": "Python 3"
    },
    "language_info": {
      "name": "python"
    }
  },
  "cells": [
    {
      "cell_type": "markdown",
      "metadata": {
        "id": "view-in-github",
        "colab_type": "text"
      },
      "source": [
        "<a href=\"https://colab.research.google.com/github/rishulu/Hexart.In---AI-Center/blob/main/Stock_Price_Prediction_with_LSTM_Neural_Network.ipynb\" target=\"_parent\"><img src=\"https://colab.research.google.com/assets/colab-badge.svg\" alt=\"Open In Colab\"/></a>"
      ]
    },
    {
      "cell_type": "code",
      "execution_count": null,
      "metadata": {
        "colab": {
          "base_uri": "https://localhost:8080/",
          "height": 73
        },
        "id": "51mcbLX3fkOi",
        "outputId": "3b6e1a2b-f004-4813-cb41-20cb8c6e8a9f"
      },
      "outputs": [
        {
          "output_type": "display_data",
          "data": {
            "text/plain": [
              "<IPython.core.display.HTML object>"
            ],
            "text/html": [
              "\n",
              "     <input type=\"file\" id=\"files-3354c4f1-b815-4d57-b0e8-4e37021f56de\" name=\"files[]\" multiple disabled\n",
              "        style=\"border:none\" />\n",
              "     <output id=\"result-3354c4f1-b815-4d57-b0e8-4e37021f56de\">\n",
              "      Upload widget is only available when the cell has been executed in the\n",
              "      current browser session. Please rerun this cell to enable.\n",
              "      </output>\n",
              "      <script>// Copyright 2017 Google LLC\n",
              "//\n",
              "// Licensed under the Apache License, Version 2.0 (the \"License\");\n",
              "// you may not use this file except in compliance with the License.\n",
              "// You may obtain a copy of the License at\n",
              "//\n",
              "//      http://www.apache.org/licenses/LICENSE-2.0\n",
              "//\n",
              "// Unless required by applicable law or agreed to in writing, software\n",
              "// distributed under the License is distributed on an \"AS IS\" BASIS,\n",
              "// WITHOUT WARRANTIES OR CONDITIONS OF ANY KIND, either express or implied.\n",
              "// See the License for the specific language governing permissions and\n",
              "// limitations under the License.\n",
              "\n",
              "/**\n",
              " * @fileoverview Helpers for google.colab Python module.\n",
              " */\n",
              "(function(scope) {\n",
              "function span(text, styleAttributes = {}) {\n",
              "  const element = document.createElement('span');\n",
              "  element.textContent = text;\n",
              "  for (const key of Object.keys(styleAttributes)) {\n",
              "    element.style[key] = styleAttributes[key];\n",
              "  }\n",
              "  return element;\n",
              "}\n",
              "\n",
              "// Max number of bytes which will be uploaded at a time.\n",
              "const MAX_PAYLOAD_SIZE = 100 * 1024;\n",
              "\n",
              "function _uploadFiles(inputId, outputId) {\n",
              "  const steps = uploadFilesStep(inputId, outputId);\n",
              "  const outputElement = document.getElementById(outputId);\n",
              "  // Cache steps on the outputElement to make it available for the next call\n",
              "  // to uploadFilesContinue from Python.\n",
              "  outputElement.steps = steps;\n",
              "\n",
              "  return _uploadFilesContinue(outputId);\n",
              "}\n",
              "\n",
              "// This is roughly an async generator (not supported in the browser yet),\n",
              "// where there are multiple asynchronous steps and the Python side is going\n",
              "// to poll for completion of each step.\n",
              "// This uses a Promise to block the python side on completion of each step,\n",
              "// then passes the result of the previous step as the input to the next step.\n",
              "function _uploadFilesContinue(outputId) {\n",
              "  const outputElement = document.getElementById(outputId);\n",
              "  const steps = outputElement.steps;\n",
              "\n",
              "  const next = steps.next(outputElement.lastPromiseValue);\n",
              "  return Promise.resolve(next.value.promise).then((value) => {\n",
              "    // Cache the last promise value to make it available to the next\n",
              "    // step of the generator.\n",
              "    outputElement.lastPromiseValue = value;\n",
              "    return next.value.response;\n",
              "  });\n",
              "}\n",
              "\n",
              "/**\n",
              " * Generator function which is called between each async step of the upload\n",
              " * process.\n",
              " * @param {string} inputId Element ID of the input file picker element.\n",
              " * @param {string} outputId Element ID of the output display.\n",
              " * @return {!Iterable<!Object>} Iterable of next steps.\n",
              " */\n",
              "function* uploadFilesStep(inputId, outputId) {\n",
              "  const inputElement = document.getElementById(inputId);\n",
              "  inputElement.disabled = false;\n",
              "\n",
              "  const outputElement = document.getElementById(outputId);\n",
              "  outputElement.innerHTML = '';\n",
              "\n",
              "  const pickedPromise = new Promise((resolve) => {\n",
              "    inputElement.addEventListener('change', (e) => {\n",
              "      resolve(e.target.files);\n",
              "    });\n",
              "  });\n",
              "\n",
              "  const cancel = document.createElement('button');\n",
              "  inputElement.parentElement.appendChild(cancel);\n",
              "  cancel.textContent = 'Cancel upload';\n",
              "  const cancelPromise = new Promise((resolve) => {\n",
              "    cancel.onclick = () => {\n",
              "      resolve(null);\n",
              "    };\n",
              "  });\n",
              "\n",
              "  // Wait for the user to pick the files.\n",
              "  const files = yield {\n",
              "    promise: Promise.race([pickedPromise, cancelPromise]),\n",
              "    response: {\n",
              "      action: 'starting',\n",
              "    }\n",
              "  };\n",
              "\n",
              "  cancel.remove();\n",
              "\n",
              "  // Disable the input element since further picks are not allowed.\n",
              "  inputElement.disabled = true;\n",
              "\n",
              "  if (!files) {\n",
              "    return {\n",
              "      response: {\n",
              "        action: 'complete',\n",
              "      }\n",
              "    };\n",
              "  }\n",
              "\n",
              "  for (const file of files) {\n",
              "    const li = document.createElement('li');\n",
              "    li.append(span(file.name, {fontWeight: 'bold'}));\n",
              "    li.append(span(\n",
              "        `(${file.type || 'n/a'}) - ${file.size} bytes, ` +\n",
              "        `last modified: ${\n",
              "            file.lastModifiedDate ? file.lastModifiedDate.toLocaleDateString() :\n",
              "                                    'n/a'} - `));\n",
              "    const percent = span('0% done');\n",
              "    li.appendChild(percent);\n",
              "\n",
              "    outputElement.appendChild(li);\n",
              "\n",
              "    const fileDataPromise = new Promise((resolve) => {\n",
              "      const reader = new FileReader();\n",
              "      reader.onload = (e) => {\n",
              "        resolve(e.target.result);\n",
              "      };\n",
              "      reader.readAsArrayBuffer(file);\n",
              "    });\n",
              "    // Wait for the data to be ready.\n",
              "    let fileData = yield {\n",
              "      promise: fileDataPromise,\n",
              "      response: {\n",
              "        action: 'continue',\n",
              "      }\n",
              "    };\n",
              "\n",
              "    // Use a chunked sending to avoid message size limits. See b/62115660.\n",
              "    let position = 0;\n",
              "    do {\n",
              "      const length = Math.min(fileData.byteLength - position, MAX_PAYLOAD_SIZE);\n",
              "      const chunk = new Uint8Array(fileData, position, length);\n",
              "      position += length;\n",
              "\n",
              "      const base64 = btoa(String.fromCharCode.apply(null, chunk));\n",
              "      yield {\n",
              "        response: {\n",
              "          action: 'append',\n",
              "          file: file.name,\n",
              "          data: base64,\n",
              "        },\n",
              "      };\n",
              "\n",
              "      let percentDone = fileData.byteLength === 0 ?\n",
              "          100 :\n",
              "          Math.round((position / fileData.byteLength) * 100);\n",
              "      percent.textContent = `${percentDone}% done`;\n",
              "\n",
              "    } while (position < fileData.byteLength);\n",
              "  }\n",
              "\n",
              "  // All done.\n",
              "  yield {\n",
              "    response: {\n",
              "      action: 'complete',\n",
              "    }\n",
              "  };\n",
              "}\n",
              "\n",
              "scope.google = scope.google || {};\n",
              "scope.google.colab = scope.google.colab || {};\n",
              "scope.google.colab._files = {\n",
              "  _uploadFiles,\n",
              "  _uploadFilesContinue,\n",
              "};\n",
              "})(self);\n",
              "</script> "
            ]
          },
          "metadata": {}
        },
        {
          "output_type": "stream",
          "name": "stdout",
          "text": [
            "Saving stock.csv to stock.csv\n"
          ]
        }
      ],
      "source": [
        "# Loading the data\n",
        "from google.colab import files\n",
        "uploaded=files.upload()"
      ]
    },
    {
      "cell_type": "code",
      "source": [
        "import pandas as pd\n",
        "df=pd.read_csv(\"stock.csv\")\n",
        "df.head(),df.tail()"
      ],
      "metadata": {
        "colab": {
          "base_uri": "https://localhost:8080/"
        },
        "id": "_4fOc0-Uf0BS",
        "outputId": "56d939be-bdd9-40d2-a37d-72bf32f9ea50"
      },
      "execution_count": null,
      "outputs": [
        {
          "output_type": "execute_result",
          "data": {
            "text/plain": [
              "(         Date       Open       High        Low      Close  Adj Close    Volume\n",
              " 0  2004-08-19  49.813290  51.835709  47.800831  49.982655  49.982655  44871361\n",
              " 1  2004-08-20  50.316402  54.336334  50.062355  53.952770  53.952770  22942874\n",
              " 2  2004-08-23  55.168217  56.528118  54.321388  54.495735  54.495735  18342897\n",
              " 3  2004-08-24  55.412300  55.591629  51.591621  52.239197  52.239197  15319808\n",
              " 4  2004-08-25  52.284027  53.798351  51.746044  52.802086  52.802086   9232276,\n",
              "             Date         Open         High          Low        Close  \\\n",
              " 4139  2021-01-28  1843.939941  1898.829956  1842.640015  1863.109985   \n",
              " 4140  2021-01-29  1846.170044  1857.280029  1810.199951  1835.739990   \n",
              " 4141  2021-02-01  1853.569946  1922.391968  1850.930054  1901.349976   \n",
              " 4142  2021-02-02  1922.560059  1955.760010  1914.489990  1927.510010   \n",
              " 4143  2021-02-03  2073.000000  2116.500000  2018.380005  2070.070068   \n",
              " \n",
              "         Adj Close   Volume  \n",
              " 4139  1863.109985  1773100  \n",
              " 4140  1835.739990  1612600  \n",
              " 4141  1901.349976  1602200  \n",
              " 4142  1927.510010  2273700  \n",
              " 4143  2070.070068  4115600  )"
            ]
          },
          "metadata": {},
          "execution_count": 2
        }
      ]
    },
    {
      "cell_type": "code",
      "source": [
        "df1=df.reset_index()['Close']\n",
        "df1"
      ],
      "metadata": {
        "colab": {
          "base_uri": "https://localhost:8080/"
        },
        "id": "Uoml-fgvgbNp",
        "outputId": "c691eaeb-003e-4994-e0ed-12d7a4c260a1"
      },
      "execution_count": null,
      "outputs": [
        {
          "output_type": "execute_result",
          "data": {
            "text/plain": [
              "0         49.982655\n",
              "1         53.952770\n",
              "2         54.495735\n",
              "3         52.239197\n",
              "4         52.802086\n",
              "           ...     \n",
              "4139    1863.109985\n",
              "4140    1835.739990\n",
              "4141    1901.349976\n",
              "4142    1927.510010\n",
              "4143    2070.070068\n",
              "Name: Close, Length: 4144, dtype: float64"
            ]
          },
          "metadata": {},
          "execution_count": 3
        }
      ]
    },
    {
      "cell_type": "code",
      "source": [
        "import matplotlib.pyplot as plt\n",
        "plt.plot(df1)"
      ],
      "metadata": {
        "colab": {
          "base_uri": "https://localhost:8080/",
          "height": 282
        },
        "id": "oT6YOFujgkrl",
        "outputId": "d30f5b80-2884-4011-d697-f1a198fea5ce"
      },
      "execution_count": null,
      "outputs": [
        {
          "output_type": "execute_result",
          "data": {
            "text/plain": [
              "[<matplotlib.lines.Line2D at 0x7f0127be1ac0>]"
            ]
          },
          "metadata": {},
          "execution_count": 4
        },
        {
          "output_type": "display_data",
          "data": {
            "text/plain": [
              "<Figure size 432x288 with 1 Axes>"
            ],
            "image/png": "[encoded data removed]"
          },
          "metadata": {
            "needs_background": "light"
          }
        }
      ]
    },
    {
      "cell_type": "code",
      "source": [
        "### LSTM are sensitive to the scale of the data. so we apply MinMax scaler "
      ],
      "metadata": {
        "id": "C5YBx6fQgndw"
      },
      "execution_count": null,
      "outputs": []
    },
    {
      "cell_type": "code",
      "source": [
        "import numpy as np"
      ],
      "metadata": {
        "id": "kDaE5n1Mgpn8"
      },
      "execution_count": null,
      "outputs": []
    },
    {
      "cell_type": "code",
      "source": [
        "\n",
        "df1"
      ],
      "metadata": {
        "colab": {
          "base_uri": "https://localhost:8080/"
        },
        "id": "M98V-2Lqgr_D",
        "outputId": "6c838d75-f618-494f-cef3-3a64857877d5"
      },
      "execution_count": null,
      "outputs": [
        {
          "output_type": "execute_result",
          "data": {
            "text/plain": [
              "0         49.982655\n",
              "1         53.952770\n",
              "2         54.495735\n",
              "3         52.239197\n",
              "4         52.802086\n",
              "           ...     \n",
              "4139    1863.109985\n",
              "4140    1835.739990\n",
              "4141    1901.349976\n",
              "4142    1927.510010\n",
              "4143    2070.070068\n",
              "Name: Close, Length: 4144, dtype: float64"
            ]
          },
          "metadata": {},
          "execution_count": 6
        }
      ]
    },
    {
      "cell_type": "code",
      "source": [
        "from sklearn.preprocessing import MinMaxScaler\n",
        "scaler=MinMaxScaler(feature_range=(0,1))\n",
        "df1=scaler.fit_transform(np.array(df1).reshape(-1,1))"
      ],
      "metadata": {
        "id": "-x_lq86jgsMe"
      },
      "execution_count": null,
      "outputs": []
    },
    {
      "cell_type": "code",
      "source": [
        "print(df1)"
      ],
      "metadata": {
        "colab": {
          "base_uri": "https://localhost:8080/"
        },
        "id": "WOjeTJYDgymD",
        "outputId": "7ca35acd-289d-42f6-9fa6-bbf9f2fd831b"
      },
      "execution_count": null,
      "outputs": [
        {
          "output_type": "stream",
          "name": "stdout",
          "text": [
            "[[8.13695600e-05]\n",
            " [2.04652806e-03]\n",
            " [2.31528911e-03]\n",
            " ...\n",
            " [9.16485612e-01]\n",
            " [9.29434510e-01]\n",
            " [1.00000000e+00]]\n"
          ]
        }
      ]
    },
    {
      "cell_type": "code",
      "source": [
        "##splitting dataset into train and test split\n",
        "training_size=int(len(df1)*0.65)\n",
        "test_size=len(df1)-training_size\n",
        "train_data,test_data=df1[0:training_size,:],df1[training_size:len(df1),:1]"
      ],
      "metadata": {
        "id": "hpheYsRcg1J-"
      },
      "execution_count": null,
      "outputs": []
    },
    {
      "cell_type": "code",
      "source": [
        "training_size,test_size"
      ],
      "metadata": {
        "colab": {
          "base_uri": "https://localhost:8080/"
        },
        "id": "mEa8VjECg3Tq",
        "outputId": "11ecf437-f745-4bfc-b16a-1da5bfce1db7"
      },
      "execution_count": null,
      "outputs": [
        {
          "output_type": "execute_result",
          "data": {
            "text/plain": [
              "(2693, 1451)"
            ]
          },
          "metadata": {},
          "execution_count": 10
        }
      ]
    },
    {
      "cell_type": "code",
      "source": [
        "train_data"
      ],
      "metadata": {
        "colab": {
          "base_uri": "https://localhost:8080/"
        },
        "id": "xoxelmO7g5tL",
        "outputId": "2c6e8209-5793-48aa-93e8-49ebde7703cb"
      },
      "execution_count": null,
      "outputs": [
        {
          "output_type": "execute_result",
          "data": {
            "text/plain": [
              "array([[8.13695600e-05],\n",
              "       [2.04652806e-03],\n",
              "       [2.31528911e-03],\n",
              "       ...,\n",
              "       [2.49405408e-01],\n",
              "       [2.47128476e-01],\n",
              "       [2.41317324e-01]])"
            ]
          },
          "metadata": {},
          "execution_count": 11
        }
      ]
    },
    {
      "cell_type": "code",
      "source": [
        "import numpy\n",
        "# convert an array of values into a dataset matrix\n",
        "def create_dataset(dataset, time_step=1):\n",
        "\tdataX, dataY = [], []\n",
        "\tfor i in range(len(dataset)-time_step-1):\n",
        "\t\ta = dataset[i:(i+time_step), 0]   ###i=0, 0,1,2,3-----99   100 \n",
        "\t\tdataX.append(a)\n",
        "\t\tdataY.append(dataset[i + time_step, 0])\n",
        "\treturn numpy.array(dataX), numpy.array(dataY)"
      ],
      "metadata": {
        "id": "U4V7ZLhGg9vM"
      },
      "execution_count": null,
      "outputs": []
    },
    {
      "cell_type": "code",
      "source": [
        "# reshape into X=t,t+1,t+2,t+3 and Y=t+4\n",
        "time_step = 100\n",
        "X_train, y_train = create_dataset(train_data, time_step)\n",
        "X_test, ytest = create_dataset(test_data, time_step)"
      ],
      "metadata": {
        "id": "wZCOop3qg_-C"
      },
      "execution_count": null,
      "outputs": []
    },
    {
      "cell_type": "code",
      "source": [
        "print(X_train.shape), print(y_train.shape)"
      ],
      "metadata": {
        "colab": {
          "base_uri": "https://localhost:8080/"
        },
        "id": "tUN69TcehCYJ",
        "outputId": "57948e62-424f-42cd-e367-0e811177559c"
      },
      "execution_count": null,
      "outputs": [
        {
          "output_type": "stream",
          "name": "stdout",
          "text": [
            "(2592, 100)\n",
            "(2592,)\n"
          ]
        },
        {
          "output_type": "execute_result",
          "data": {
            "text/plain": [
              "(None, None)"
            ]
          },
          "metadata": {},
          "execution_count": 14
        }
      ]
    },
    {
      "cell_type": "code",
      "source": [
        "print(X_test.shape), print(ytest.shape)"
      ],
      "metadata": {
        "colab": {
          "base_uri": "https://localhost:8080/"
        },
        "id": "FBP4rlHwhER6",
        "outputId": "6492a4ae-8b55-4093-84f3-6b70c56c2518"
      },
      "execution_count": null,
      "outputs": [
        {
          "output_type": "stream",
          "name": "stdout",
          "text": [
            "(1350, 100)\n",
            "(1350,)\n"
          ]
        },
        {
          "output_type": "execute_result",
          "data": {
            "text/plain": [
              "(None, None)"
            ]
          },
          "metadata": {},
          "execution_count": 15
        }
      ]
    },
    {
      "cell_type": "code",
      "source": [
        "# reshape input to be [samples, time steps, features] which is required for LSTM\n",
        "X_train =X_train.reshape(X_train.shape[0],X_train.shape[1] , 1)\n",
        "X_test = X_test.reshape(X_test.shape[0],X_test.shape[1] , 1)"
      ],
      "metadata": {
        "id": "WuXO9s8ZhGuG"
      },
      "execution_count": null,
      "outputs": []
    },
    {
      "cell_type": "code",
      "source": [
        "### Create the Stacked LSTM model\n",
        "from tensorflow.keras.models import Sequential\n",
        "from tensorflow.keras.layers import Dense\n",
        "from tensorflow.keras.layers import LSTM"
      ],
      "metadata": {
        "id": "51R9DdKRhIoq"
      },
      "execution_count": null,
      "outputs": []
    },
    {
      "cell_type": "code",
      "source": [
        "model=Sequential()\n",
        "model.add(LSTM(50,return_sequences=True,input_shape=(100,1)))\n",
        "model.add(LSTM(50,return_sequences=True))\n",
        "model.add(LSTM(50))\n",
        "model.add(Dense(1))\n",
        "model.compile(loss='mean_squared_error',optimizer='adam')"
      ],
      "metadata": {
        "id": "GIdNf8fthK4C"
      },
      "execution_count": null,
      "outputs": []
    },
    {
      "cell_type": "code",
      "source": [
        "model.summary()"
      ],
      "metadata": {
        "colab": {
          "base_uri": "https://localhost:8080/"
        },
        "id": "VR1uf8VjhNKB",
        "outputId": "aaac5ae0-fb1d-4f69-9176-7f7f5ae47058"
      },
      "execution_count": null,
      "outputs": [
        {
          "output_type": "stream",
          "name": "stdout",
          "text": [
            "Model: \"sequential\"\n",
            "_________________________________________________________________\n",
            " Layer (type)                Output Shape              Param #   \n",
            "=================================================================\n",
            " lstm (LSTM)                 (None, 100, 50)           10400     \n",
            "                                                                 \n",
            " lstm_1 (LSTM)               (None, 100, 50)           20200     \n",
            "                                                                 \n",
            " lstm_2 (LSTM)               (None, 50)                20200     \n",
            "                                                                 \n",
            " dense (Dense)               (None, 1)                 51        \n",
            "                                                                 \n",
            "=================================================================\n",
            "Total params: 50,851\n",
            "Trainable params: 50,851\n",
            "Non-trainable params: 0\n",
            "_________________________________________________________________\n"
          ]
        }
      ]
    },
    {
      "cell_type": "code",
      "source": [
        "model.summary()"
      ],
      "metadata": {
        "colab": {
          "base_uri": "https://localhost:8080/"
        },
        "id": "BdPJGeQFhP99",
        "outputId": "7a97de69-0604-43dd-ce0c-cdf40f77c7e5"
      },
      "execution_count": null,
      "outputs": [
        {
          "output_type": "stream",
          "name": "stdout",
          "text": [
            "Model: \"sequential\"\n",
            "_________________________________________________________________\n",
            " Layer (type)                Output Shape              Param #   \n",
            "=================================================================\n",
            " lstm (LSTM)                 (None, 100, 50)           10400     \n",
            "                                                                 \n",
            " lstm_1 (LSTM)               (None, 100, 50)           20200     \n",
            "                                                                 \n",
            " lstm_2 (LSTM)               (None, 50)                20200     \n",
            "                                                                 \n",
            " dense (Dense)               (None, 1)                 51        \n",
            "                                                                 \n",
            "=================================================================\n",
            "Total params: 50,851\n",
            "Trainable params: 50,851\n",
            "Non-trainable params: 0\n",
            "_________________________________________________________________\n"
          ]
        }
      ]
    },
    {
      "cell_type": "code",
      "source": [
        "model.fit(X_train,y_train,validation_data=(X_test,ytest),epochs=100,batch_size=64,verbose=1)"
      ],
      "metadata": {
        "colab": {
          "base_uri": "https://localhost:8080/"
        },
        "id": "oGVL1tdzhTcx",
        "outputId": "a0d1eaf2-1d2a-46f5-84b6-9176cf30f0d5"
      },
      "execution_count": 21,
      "outputs": [
        {
          "output_type": "stream",
          "name": "stdout",
          "text": [
            "Epoch 1/100\n",
            "41/41 [==============================] - 16s 237ms/step - loss: 0.0015 - val_loss: 7.3138e-04\n",
            "Epoch 2/100\n",
            "41/41 [==============================] - 8s 206ms/step - loss: 7.8354e-05 - val_loss: 6.8203e-04\n",
            "Epoch 3/100\n",
            "41/41 [==============================] - 8s 206ms/step - loss: 6.1839e-05 - val_loss: 6.9941e-04\n",
            "Epoch 4/100\n",
            "41/41 [==============================] - 8s 204ms/step - loss: 6.0264e-05 - val_loss: 8.4371e-04\n",
            "Epoch 5/100\n",
            "41/41 [==============================] - 8s 206ms/step - loss: 6.0371e-05 - val_loss: 7.7670e-04\n",
            "Epoch 6/100\n",
            "41/41 [==============================] - 9s 209ms/step - loss: 5.7468e-05 - val_loss: 6.3582e-04\n",
            "Epoch 7/100\n",
            "41/41 [==============================] - 9s 210ms/step - loss: 5.4319e-05 - val_loss: 7.0236e-04\n",
            "Epoch 8/100\n",
            "41/41 [==============================] - 8s 206ms/step - loss: 5.2642e-05 - val_loss: 0.0013\n",
            "Epoch 9/100\n",
            "41/41 [==============================] - 8s 206ms/step - loss: 5.1666e-05 - val_loss: 7.8697e-04\n",
            "Epoch 10/100\n",
            "41/41 [==============================] - 9s 208ms/step - loss: 5.3357e-05 - val_loss: 6.5109e-04\n",
            "Epoch 11/100\n",
            "41/41 [==============================] - 9s 210ms/step - loss: 4.8579e-05 - val_loss: 0.0010\n",
            "Epoch 12/100\n",
            "41/41 [==============================] - 9s 210ms/step - loss: 5.1454e-05 - val_loss: 6.2656e-04\n",
            "Epoch 13/100\n",
            "41/41 [==============================] - 9s 208ms/step - loss: 5.0186e-05 - val_loss: 7.0133e-04\n",
            "Epoch 14/100\n",
            "41/41 [==============================] - 9s 222ms/step - loss: 4.5587e-05 - val_loss: 0.0011\n",
            "Epoch 15/100\n",
            "41/41 [==============================] - 10s 233ms/step - loss: 4.2110e-05 - val_loss: 7.3202e-04\n",
            "Epoch 16/100\n",
            "41/41 [==============================] - 9s 214ms/step - loss: 4.2039e-05 - val_loss: 6.9679e-04\n",
            "Epoch 17/100\n",
            "41/41 [==============================] - 9s 211ms/step - loss: 4.0836e-05 - val_loss: 4.5077e-04\n",
            "Epoch 18/100\n",
            "41/41 [==============================] - 9s 211ms/step - loss: 4.2454e-05 - val_loss: 5.5080e-04\n",
            "Epoch 19/100\n",
            "41/41 [==============================] - 9s 211ms/step - loss: 3.7814e-05 - val_loss: 6.7004e-04\n",
            "Epoch 20/100\n",
            "41/41 [==============================] - 9s 211ms/step - loss: 3.6763e-05 - val_loss: 4.9280e-04\n",
            "Epoch 21/100\n",
            "41/41 [==============================] - 9s 210ms/step - loss: 4.2352e-05 - val_loss: 7.3993e-04\n",
            "Epoch 22/100\n",
            "41/41 [==============================] - 9s 209ms/step - loss: 3.9163e-05 - val_loss: 3.8840e-04\n",
            "Epoch 23/100\n",
            "41/41 [==============================] - 9s 212ms/step - loss: 3.7401e-05 - val_loss: 4.3678e-04\n",
            "Epoch 24/100\n",
            "41/41 [==============================] - 9s 212ms/step - loss: 3.7368e-05 - val_loss: 4.5153e-04\n",
            "Epoch 25/100\n",
            "41/41 [==============================] - 9s 211ms/step - loss: 3.4807e-05 - val_loss: 3.5851e-04\n",
            "Epoch 26/100\n",
            "41/41 [==============================] - 9s 211ms/step - loss: 3.6304e-05 - val_loss: 8.5450e-04\n",
            "Epoch 27/100\n",
            "41/41 [==============================] - 9s 210ms/step - loss: 3.9154e-05 - val_loss: 4.3093e-04\n",
            "Epoch 28/100\n",
            "41/41 [==============================] - 9s 210ms/step - loss: 4.4209e-05 - val_loss: 3.8199e-04\n",
            "Epoch 29/100\n",
            "41/41 [==============================] - 9s 208ms/step - loss: 3.5468e-05 - val_loss: 5.6071e-04\n",
            "Epoch 30/100\n",
            "41/41 [==============================] - 9s 209ms/step - loss: 3.5797e-05 - val_loss: 7.1273e-04\n",
            "Epoch 31/100\n",
            "41/41 [==============================] - 9s 209ms/step - loss: 3.6629e-05 - val_loss: 4.8819e-04\n",
            "Epoch 32/100\n",
            "41/41 [==============================] - 9s 209ms/step - loss: 3.0517e-05 - val_loss: 3.2995e-04\n",
            "Epoch 33/100\n",
            "41/41 [==============================] - 9s 210ms/step - loss: 3.2527e-05 - val_loss: 5.7076e-04\n",
            "Epoch 34/100\n",
            "41/41 [==============================] - 9s 209ms/step - loss: 3.4988e-05 - val_loss: 5.1836e-04\n",
            "Epoch 35/100\n",
            "41/41 [==============================] - 9s 211ms/step - loss: 2.9694e-05 - val_loss: 3.2456e-04\n",
            "Epoch 36/100\n",
            "41/41 [==============================] - 9s 211ms/step - loss: 2.8748e-05 - val_loss: 3.0522e-04\n",
            "Epoch 37/100\n",
            "41/41 [==============================] - 9s 210ms/step - loss: 2.9766e-05 - val_loss: 4.8708e-04\n",
            "Epoch 38/100\n",
            "41/41 [==============================] - 9s 210ms/step - loss: 2.8352e-05 - val_loss: 3.3141e-04\n",
            "Epoch 39/100\n",
            "41/41 [==============================] - 9s 209ms/step - loss: 2.7403e-05 - val_loss: 3.9088e-04\n",
            "Epoch 40/100\n",
            "41/41 [==============================] - 9s 209ms/step - loss: 2.8130e-05 - val_loss: 3.1943e-04\n",
            "Epoch 41/100\n",
            "41/41 [==============================] - 8s 208ms/step - loss: 2.7249e-05 - val_loss: 5.1315e-04\n",
            "Epoch 42/100\n",
            "41/41 [==============================] - 10s 252ms/step - loss: 2.8600e-05 - val_loss: 5.8012e-04\n",
            "Epoch 43/100\n",
            "41/41 [==============================] - 11s 262ms/step - loss: 2.6465e-05 - val_loss: 3.8949e-04\n",
            "Epoch 44/100\n",
            "41/41 [==============================] - 9s 212ms/step - loss: 2.8438e-05 - val_loss: 4.7563e-04\n",
            "Epoch 45/100\n",
            "41/41 [==============================] - 9s 209ms/step - loss: 2.7436e-05 - val_loss: 2.7261e-04\n",
            "Epoch 46/100\n",
            "41/41 [==============================] - 9s 210ms/step - loss: 2.6204e-05 - val_loss: 3.9230e-04\n",
            "Epoch 47/100\n",
            "41/41 [==============================] - 9s 210ms/step - loss: 2.5394e-05 - val_loss: 3.4973e-04\n",
            "Epoch 48/100\n",
            "41/41 [==============================] - 9s 210ms/step - loss: 2.6969e-05 - val_loss: 3.2030e-04\n",
            "Epoch 49/100\n",
            "41/41 [==============================] - 9s 210ms/step - loss: 2.9973e-05 - val_loss: 2.5703e-04\n",
            "Epoch 50/100\n",
            "41/41 [==============================] - 9s 212ms/step - loss: 2.7338e-05 - val_loss: 2.6737e-04\n",
            "Epoch 51/100\n",
            "41/41 [==============================] - 9s 210ms/step - loss: 2.4815e-05 - val_loss: 3.4209e-04\n",
            "Epoch 52/100\n",
            "41/41 [==============================] - 9s 209ms/step - loss: 2.3933e-05 - val_loss: 3.2686e-04\n",
            "Epoch 53/100\n",
            "41/41 [==============================] - 9s 209ms/step - loss: 2.3091e-05 - val_loss: 3.0240e-04\n",
            "Epoch 54/100\n",
            "41/41 [==============================] - 9s 210ms/step - loss: 2.3201e-05 - val_loss: 2.6867e-04\n",
            "Epoch 55/100\n",
            "41/41 [==============================] - 9s 210ms/step - loss: 2.3309e-05 - val_loss: 2.6050e-04\n",
            "Epoch 56/100\n",
            "41/41 [==============================] - 9s 210ms/step - loss: 2.4086e-05 - val_loss: 2.8247e-04\n",
            "Epoch 57/100\n",
            "41/41 [==============================] - 9s 209ms/step - loss: 2.1748e-05 - val_loss: 2.3475e-04\n",
            "Epoch 58/100\n",
            "41/41 [==============================] - 9s 211ms/step - loss: 2.3955e-05 - val_loss: 2.4016e-04\n",
            "Epoch 59/100\n",
            "41/41 [==============================] - 9s 209ms/step - loss: 2.2044e-05 - val_loss: 3.0768e-04\n",
            "Epoch 60/100\n",
            "41/41 [==============================] - 9s 210ms/step - loss: 2.1015e-05 - val_loss: 2.6030e-04\n",
            "Epoch 61/100\n",
            "41/41 [==============================] - 9s 210ms/step - loss: 2.1951e-05 - val_loss: 4.3239e-04\n",
            "Epoch 62/100\n",
            "41/41 [==============================] - 9s 209ms/step - loss: 2.6009e-05 - val_loss: 2.4712e-04\n",
            "Epoch 63/100\n",
            "41/41 [==============================] - 9s 210ms/step - loss: 2.1950e-05 - val_loss: 4.0425e-04\n",
            "Epoch 64/100\n",
            "41/41 [==============================] - 9s 212ms/step - loss: 1.9922e-05 - val_loss: 2.1246e-04\n",
            "Epoch 65/100\n",
            "41/41 [==============================] - 9s 210ms/step - loss: 2.0297e-05 - val_loss: 2.2944e-04\n",
            "Epoch 66/100\n",
            "41/41 [==============================] - 9s 209ms/step - loss: 2.1644e-05 - val_loss: 3.0460e-04\n",
            "Epoch 67/100\n",
            "41/41 [==============================] - 9s 209ms/step - loss: 2.1091e-05 - val_loss: 6.1702e-04\n",
            "Epoch 68/100\n",
            "41/41 [==============================] - 9s 209ms/step - loss: 2.1265e-05 - val_loss: 4.4198e-04\n",
            "Epoch 69/100\n",
            "41/41 [==============================] - 9s 208ms/step - loss: 1.9720e-05 - val_loss: 1.9931e-04\n",
            "Epoch 70/100\n",
            "41/41 [==============================] - 10s 249ms/step - loss: 2.1560e-05 - val_loss: 3.2454e-04\n",
            "Epoch 71/100\n",
            "41/41 [==============================] - 9s 211ms/step - loss: 2.0638e-05 - val_loss: 3.1664e-04\n",
            "Epoch 72/100\n",
            "41/41 [==============================] - 9s 210ms/step - loss: 2.2965e-05 - val_loss: 2.4641e-04\n",
            "Epoch 73/100\n",
            "41/41 [==============================] - 8s 207ms/step - loss: 1.8419e-05 - val_loss: 2.8714e-04\n",
            "Epoch 74/100\n",
            "41/41 [==============================] - 9s 209ms/step - loss: 1.7459e-05 - val_loss: 7.5855e-04\n",
            "Epoch 75/100\n",
            "41/41 [==============================] - 8s 208ms/step - loss: 1.8863e-05 - val_loss: 2.1545e-04\n",
            "Epoch 76/100\n",
            "41/41 [==============================] - 9s 208ms/step - loss: 1.7308e-05 - val_loss: 1.8272e-04\n",
            "Epoch 77/100\n",
            "41/41 [==============================] - 9s 208ms/step - loss: 1.7118e-05 - val_loss: 1.8203e-04\n",
            "Epoch 78/100\n",
            "41/41 [==============================] - 9s 208ms/step - loss: 1.7158e-05 - val_loss: 2.6760e-04\n",
            "Epoch 79/100\n",
            "41/41 [==============================] - 9s 208ms/step - loss: 1.6571e-05 - val_loss: 2.0041e-04\n",
            "Epoch 80/100\n",
            "41/41 [==============================] - 9s 209ms/step - loss: 1.8285e-05 - val_loss: 1.6987e-04\n",
            "Epoch 81/100\n",
            "41/41 [==============================] - 9s 208ms/step - loss: 1.6052e-05 - val_loss: 2.5068e-04\n",
            "Epoch 82/100\n",
            "41/41 [==============================] - 9s 208ms/step - loss: 1.7345e-05 - val_loss: 1.8471e-04\n",
            "Epoch 83/100\n",
            "41/41 [==============================] - 9s 209ms/step - loss: 1.8088e-05 - val_loss: 4.2751e-04\n",
            "Epoch 84/100\n",
            "41/41 [==============================] - 9s 212ms/step - loss: 1.6992e-05 - val_loss: 1.9599e-04\n",
            "Epoch 85/100\n",
            "41/41 [==============================] - 9s 209ms/step - loss: 1.5968e-05 - val_loss: 1.5932e-04\n",
            "Epoch 86/100\n",
            "41/41 [==============================] - 9s 209ms/step - loss: 1.6488e-05 - val_loss: 2.2002e-04\n",
            "Epoch 87/100\n",
            "41/41 [==============================] - 8s 208ms/step - loss: 1.4989e-05 - val_loss: 1.9577e-04\n",
            "Epoch 88/100\n",
            "41/41 [==============================] - 9s 208ms/step - loss: 1.7768e-05 - val_loss: 1.6178e-04\n",
            "Epoch 89/100\n",
            "41/41 [==============================] - 8s 206ms/step - loss: 1.8797e-05 - val_loss: 2.1105e-04\n",
            "Epoch 90/100\n",
            "41/41 [==============================] - 9s 208ms/step - loss: 1.3786e-05 - val_loss: 2.0861e-04\n",
            "Epoch 91/100\n",
            "41/41 [==============================] - 9s 208ms/step - loss: 1.3743e-05 - val_loss: 2.3974e-04\n",
            "Epoch 92/100\n",
            "41/41 [==============================] - 9s 209ms/step - loss: 1.4055e-05 - val_loss: 2.0789e-04\n",
            "Epoch 93/100\n",
            "41/41 [==============================] - 9s 210ms/step - loss: 1.3434e-05 - val_loss: 1.4971e-04\n",
            "Epoch 94/100\n",
            "41/41 [==============================] - 9s 208ms/step - loss: 1.3900e-05 - val_loss: 3.5664e-04\n",
            "Epoch 95/100\n",
            "41/41 [==============================] - 8s 208ms/step - loss: 1.3736e-05 - val_loss: 2.6376e-04\n",
            "Epoch 96/100\n",
            "41/41 [==============================] - 9s 209ms/step - loss: 1.5150e-05 - val_loss: 5.2737e-04\n",
            "Epoch 97/100\n",
            "41/41 [==============================] - 10s 234ms/step - loss: 1.7135e-05 - val_loss: 4.8164e-04\n",
            "Epoch 98/100\n",
            "41/41 [==============================] - 9s 213ms/step - loss: 1.4573e-05 - val_loss: 1.5509e-04\n",
            "Epoch 99/100\n",
            "41/41 [==============================] - 9s 211ms/step - loss: 1.3931e-05 - val_loss: 1.4398e-04\n",
            "Epoch 100/100\n",
            "41/41 [==============================] - 9s 209ms/step - loss: 1.5477e-05 - val_loss: 1.3782e-04\n"
          ]
        },
        {
          "output_type": "execute_result",
          "data": {
            "text/plain": [
              "<keras.callbacks.History at 0x7f00c4d3b190>"
            ]
          },
          "metadata": {},
          "execution_count": 21
        }
      ]
    },
    {
      "cell_type": "code",
      "source": [
        "import tensorflow as tf"
      ],
      "metadata": {
        "id": "wPfr9fzGhWNv"
      },
      "execution_count": 22,
      "outputs": []
    },
    {
      "cell_type": "code",
      "source": [
        "tf.__version__"
      ],
      "metadata": {
        "colab": {
          "base_uri": "https://localhost:8080/",
          "height": 35
        },
        "id": "xqG_aOhuhYdl",
        "outputId": "746740da-2f95-4c6e-f615-b518856cf5b0"
      },
      "execution_count": 23,
      "outputs": [
        {
          "output_type": "execute_result",
          "data": {
            "text/plain": [
              "'2.9.2'"
            ],
            "application/vnd.google.colaboratory.intrinsic+json": {
              "type": "string"
            }
          },
          "metadata": {},
          "execution_count": 23
        }
      ]
    },
    {
      "cell_type": "code",
      "source": [
        "### Lets Do the prediction and check performance metrics\n",
        "train_predict=model.predict(X_train)\n",
        "test_predict=model.predict(X_test)"
      ],
      "metadata": {
        "colab": {
          "base_uri": "https://localhost:8080/"
        },
        "id": "A3fswLdShZN_",
        "outputId": "55995a48-c8e7-4805-fca6-94b5060b6578"
      },
      "execution_count": 24,
      "outputs": [
        {
          "output_type": "stream",
          "name": "stdout",
          "text": [
            "81/81 [==============================] - 5s 46ms/step\n",
            "43/43 [==============================] - 6s 76ms/step\n"
          ]
        }
      ]
    },
    {
      "cell_type": "code",
      "source": [
        "##Transformback to original form\n",
        "train_predict=scaler.inverse_transform(train_predict)\n",
        "test_predict=scaler.inverse_transform(test_predict)"
      ],
      "metadata": {
        "id": "5InQUbwIheeI"
      },
      "execution_count": 25,
      "outputs": []
    },
    {
      "cell_type": "code",
      "source": [
        "### Calculate RMSE performance metrics\n",
        "import math\n",
        "from sklearn.metrics import mean_squared_error\n",
        "math.sqrt(mean_squared_error(y_train,train_predict))"
      ],
      "metadata": {
        "colab": {
          "base_uri": "https://localhost:8080/"
        },
        "id": "LbpwUVrphgtm",
        "outputId": "906c933e-f768-4268-b10f-716e0352a145"
      },
      "execution_count": 26,
      "outputs": [
        {
          "output_type": "execute_result",
          "data": {
            "text/plain": [
              "331.6795863830444"
            ]
          },
          "metadata": {},
          "execution_count": 26
        }
      ]
    },
    {
      "cell_type": "code",
      "source": [
        "### Test Data RMSE\n",
        "math.sqrt(mean_squared_error(ytest,test_predict))"
      ],
      "metadata": {
        "colab": {
          "base_uri": "https://localhost:8080/"
        },
        "id": "D64tmOANhjQT",
        "outputId": "1de2011d-bebd-45e8-fade-cb8324c2d085"
      },
      "execution_count": 27,
      "outputs": [
        {
          "output_type": "execute_result",
          "data": {
            "text/plain": [
              "1118.6980260636635"
            ]
          },
          "metadata": {},
          "execution_count": 27
        }
      ]
    },
    {
      "cell_type": "code",
      "source": [
        "### Plotting \n",
        "# shift train predictions for plotting\n",
        "look_back=100\n",
        "trainPredictPlot = numpy.empty_like(df1)\n",
        "trainPredictPlot[:, :] = np.nan\n",
        "trainPredictPlot[look_back:len(train_predict)+look_back, :] = train_predict\n",
        "# shift test predictions for plotting\n",
        "testPredictPlot = numpy.empty_like(df1)\n",
        "testPredictPlot[:, :] = numpy.nan\n",
        "testPredictPlot[len(train_predict)+(look_back*2)+1:len(df1)-1, :] = test_predict\n",
        "# plot baseline and predictions\n",
        "plt.plot(scaler.inverse_transform(df1))\n",
        "plt.plot(trainPredictPlot)\n",
        "plt.plot(testPredictPlot)\n",
        "plt.show()"
      ],
      "metadata": {
        "colab": {
          "base_uri": "https://localhost:8080/",
          "height": 265
        },
        "id": "l5wCQ3jnhl8F",
        "outputId": "64dcf424-1a65-49c3-9eb4-5672f6ab10a4"
      },
      "execution_count": 28,
      "outputs": [
        {
          "output_type": "display_data",
          "data": {
            "text/plain": [
              "<Figure size 432x288 with 1 Axes>"
            ],
            "image/png": "[encoded data removed]"
          },
          "metadata": {
            "needs_background": "light"
          }
        }
      ]
    },
    {
      "cell_type": "code",
      "source": [
        "len(test_data)"
      ],
      "metadata": {
        "colab": {
          "base_uri": "https://localhost:8080/"
        },
        "id": "-MG5mrGmhoYz",
        "outputId": "46f2ba8a-3164-4206-97b4-d306cc8ca03c"
      },
      "execution_count": 29,
      "outputs": [
        {
          "output_type": "execute_result",
          "data": {
            "text/plain": [
              "1451"
            ]
          },
          "metadata": {},
          "execution_count": 29
        }
      ]
    },
    {
      "cell_type": "code",
      "source": [
        "x_input=test_data[1351:].reshape(1,-1)\n",
        "x_input.shape"
      ],
      "metadata": {
        "colab": {
          "base_uri": "https://localhost:8080/"
        },
        "id": "Hw3c1p6xhqXW",
        "outputId": "a77270e4-c2a6-4ad1-e819-709029714b92"
      },
      "execution_count": 30,
      "outputs": [
        {
          "output_type": "execute_result",
          "data": {
            "text/plain": [
              "(1, 100)"
            ]
          },
          "metadata": {},
          "execution_count": 30
        }
      ]
    },
    {
      "cell_type": "code",
      "source": [
        "temp_input=list(x_input)\n",
        "temp_input=temp_input[0].tolist()"
      ],
      "metadata": {
        "id": "9mwBJIOUhtPQ"
      },
      "execution_count": 31,
      "outputs": []
    },
    {
      "cell_type": "code",
      "source": [
        "temp_input"
      ],
      "metadata": {
        "colab": {
          "base_uri": "https://localhost:8080/"
        },
        "id": "vsFNjeS9hvI6",
        "outputId": "1d4a3fad-b4ef-4a40-969e-67e8cf4af450"
      },
      "execution_count": 32,
      "outputs": [
        {
          "output_type": "execute_result",
          "data": {
            "text/plain": [
              "[0.7280784024050864,\n",
              " 0.727365648678051,\n",
              " 0.7383345348337272,\n",
              " 0.728167526443981,\n",
              " 0.7156096883566693,\n",
              " 0.6980178025333278,\n",
              " 0.6837473259521413,\n",
              " 0.7007253714611219,\n",
              " 0.6758522343600932,\n",
              " 0.6823267134324543,\n",
              " 0.6905781214995081,\n",
              " 0.700260112130577,\n",
              " 0.7026409717838143,\n",
              " 0.7027746283903819,\n",
              " 0.7129169235240875,\n",
              " 0.6972406984119505,\n",
              " 0.7109023498951963,\n",
              " 0.6947756081692392,\n",
              " 0.6981663231286318,\n",
              " 0.710857817822511,\n",
              " 0.7253559694885559,\n",
              " 0.7520506879389985,\n",
              " 0.7533030219302367,\n",
              " 0.751521017330612,\n",
              " 0.7470909007481147,\n",
              " 0.7539613339287707,\n",
              " 0.7349537899186627,\n",
              " 0.7455069640328993,\n",
              " 0.7640096105841856,\n",
              " 0.7749091910226241,\n",
              " 0.7876155497052397,\n",
              " 0.762593892008907,\n",
              " 0.769429702772694,\n",
              " 0.7260489642924709,\n",
              " 0.7511052444056726,\n",
              " 0.777720748473037,\n",
              " 0.780205596648893,\n",
              " 0.7921743680663965,\n",
              " 0.8411385833191685,\n",
              " 0.8481872046840895,\n",
              " 0.8473853269181595,\n",
              " 0.8480040616719164,\n",
              " 0.836812394870778,\n",
              " 0.842910617874465,\n",
              " 0.8414900053547781,\n",
              " 0.8549438005698102,\n",
              " 0.8571019399660973,\n",
              " 0.8515432363431134,\n",
              " 0.8399753738618128,\n",
              " 0.8484594722301448,\n",
              " 0.8377033362870906,\n",
              " 0.8340750974705233,\n",
              " 0.850914592428528,\n",
              " 0.8521768355805944,\n",
              " 0.8629477142403735,\n",
              " 0.8468853842872458,\n",
              " 0.8653781216777038,\n",
              " 0.8801534952227243,\n",
              " 0.8795694437693361,\n",
              " 0.8801733140393688,\n",
              " 0.8759609628859136,\n",
              " 0.8755006583832768,\n",
              " 0.8584631564243626,\n",
              " 0.8541072395035114,\n",
              " 0.8572949926340865,\n",
              " 0.8465488267353605,\n",
              " 0.8503651633920088,\n",
              " 0.8480040616719164,\n",
              " 0.84052975772624,\n",
              " 0.832169406803647,\n",
              " 0.8363074974119563,\n",
              " 0.8284520434531973,\n",
              " 0.8328475376188256,\n",
              " 0.8360500943496252,\n",
              " 0.8544834351836736,\n",
              " 0.8458854995204064,\n",
              " 0.8363817579571022,\n",
              " 0.8424997997774337,\n",
              " 0.8307982806895656,\n",
              " 0.8370747527610173,\n",
              " 0.834287968955157,\n",
              " 0.8600075158948008,\n",
              " 0.8698874531382673,\n",
              " 0.8498454019444507,\n",
              " 0.8398615365668775,\n",
              " 0.843747178445776,\n",
              " 0.8367084667366712,\n",
              " 0.8347334094690574,\n",
              " 0.8617944144388339,\n",
              " 0.9093330623440109,\n",
              " 0.9114862474073777,\n",
              " 0.9163371521312343,\n",
              " 0.9155204098815802,\n",
              " 0.9243509754576138,\n",
              " 0.8815593041421866,\n",
              " 0.8975572832059846,\n",
              " 0.8840094695126618,\n",
              " 0.9164856123380264,\n",
              " 0.9294345100942368,\n",
              " 1.0000000000000002]"
            ]
          },
          "metadata": {},
          "execution_count": 32
        }
      ]
    },
    {
      "cell_type": "code",
      "source": [
        "# demonstrate prediction for next 10 days\n",
        "from numpy import array\n",
        "\n",
        "lst_output=[]\n",
        "n_steps=100\n",
        "i=0\n",
        "while(i<30):\n",
        "    \n",
        "    if(len(temp_input)>100):\n",
        "        #print(temp_input)\n",
        "        x_input=np.array(temp_input[1:])\n",
        "        print(\"{} day input {}\".format(i,x_input))\n",
        "        x_input=x_input.reshape(1,-1)\n",
        "        x_input = x_input.reshape((1, n_steps, 1))\n",
        "        #print(x_input)\n",
        "        yhat = model.predict(x_input, verbose=0)\n",
        "        print(\"{} day output {}\".format(i,yhat))\n",
        "        temp_input.extend(yhat[0].tolist())\n",
        "        temp_input=temp_input[1:]\n",
        "        #print(temp_input)\n",
        "        lst_output.extend(yhat.tolist())\n",
        "        i=i+1\n",
        "    else:\n",
        "        x_input = x_input.reshape((1, n_steps,1))\n",
        "        yhat = model.predict(x_input, verbose=0)\n",
        "        print(yhat[0])\n",
        "        temp_input.extend(yhat[0].tolist())\n",
        "        print(len(temp_input))\n",
        "        lst_output.extend(yhat.tolist())\n",
        "        i=i+1\n",
        "    \n",
        "\n",
        "print(lst_output)"
      ],
      "metadata": {
        "colab": {
          "base_uri": "https://localhost:8080/"
        },
        "id": "CgTeY1Hih3bd",
        "outputId": "5b3c95e4-c7d4-49b7-8b03-bfb834996f8e"
      },
      "execution_count": 33,
      "outputs": [
        {
          "output_type": "stream",
          "name": "stdout",
          "text": [
            "[0.9554849]\n",
            "101\n",
            "1 day input [0.72736565 0.73833453 0.72816753 0.71560969 0.6980178  0.68374733\n",
            " 0.70072537 0.67585223 0.68232671 0.69057812 0.70026011 0.70264097\n",
            " 0.70277463 0.71291692 0.6972407  0.71090235 0.69477561 0.69816632\n",
            " 0.71085782 0.72535597 0.75205069 0.75330302 0.75152102 0.7470909\n",
            " 0.75396133 0.73495379 0.74550696 0.76400961 0.77490919 0.78761555\n",
            " 0.76259389 0.7694297  0.72604896 0.75110524 0.77772075 0.7802056\n",
            " 0.79217437 0.84113858 0.8481872  0.84738533 0.84800406 0.83681239\n",
            " 0.84291062 0.84149001 0.8549438  0.85710194 0.85154324 0.83997537\n",
            " 0.84845947 0.83770334 0.8340751  0.85091459 0.85217684 0.86294771\n",
            " 0.84688538 0.86537812 0.8801535  0.87956944 0.88017331 0.87596096\n",
            " 0.87550066 0.85846316 0.85410724 0.85729499 0.84654883 0.85036516\n",
            " 0.84800406 0.84052976 0.83216941 0.8363075  0.82845204 0.83284754\n",
            " 0.83605009 0.85448344 0.8458855  0.83638176 0.8424998  0.83079828\n",
            " 0.83707475 0.83428797 0.86000752 0.86988745 0.8498454  0.83986154\n",
            " 0.84374718 0.83670847 0.83473341 0.86179441 0.90933306 0.91148625\n",
            " 0.91633715 0.91552041 0.92435098 0.8815593  0.89755728 0.88400947\n",
            " 0.91648561 0.92943451 1.         0.95548493]\n",
            "1 day output [[0.96564376]]\n",
            "2 day input [0.73833453 0.72816753 0.71560969 0.6980178  0.68374733 0.70072537\n",
            " 0.67585223 0.68232671 0.69057812 0.70026011 0.70264097 0.70277463\n",
            " 0.71291692 0.6972407  0.71090235 0.69477561 0.69816632 0.71085782\n",
            " 0.72535597 0.75205069 0.75330302 0.75152102 0.7470909  0.75396133\n",
            " 0.73495379 0.74550696 0.76400961 0.77490919 0.78761555 0.76259389\n",
            " 0.7694297  0.72604896 0.75110524 0.77772075 0.7802056  0.79217437\n",
            " 0.84113858 0.8481872  0.84738533 0.84800406 0.83681239 0.84291062\n",
            " 0.84149001 0.8549438  0.85710194 0.85154324 0.83997537 0.84845947\n",
            " 0.83770334 0.8340751  0.85091459 0.85217684 0.86294771 0.84688538\n",
            " 0.86537812 0.8801535  0.87956944 0.88017331 0.87596096 0.87550066\n",
            " 0.85846316 0.85410724 0.85729499 0.84654883 0.85036516 0.84800406\n",
            " 0.84052976 0.83216941 0.8363075  0.82845204 0.83284754 0.83605009\n",
            " 0.85448344 0.8458855  0.83638176 0.8424998  0.83079828 0.83707475\n",
            " 0.83428797 0.86000752 0.86988745 0.8498454  0.83986154 0.84374718\n",
            " 0.83670847 0.83473341 0.86179441 0.90933306 0.91148625 0.91633715\n",
            " 0.91552041 0.92435098 0.8815593  0.89755728 0.88400947 0.91648561\n",
            " 0.92943451 1.         0.95548493 0.96564376]\n",
            "2 day output [[0.95524216]]\n",
            "3 day input [0.72816753 0.71560969 0.6980178  0.68374733 0.70072537 0.67585223\n",
            " 0.68232671 0.69057812 0.70026011 0.70264097 0.70277463 0.71291692\n",
            " 0.6972407  0.71090235 0.69477561 0.69816632 0.71085782 0.72535597\n",
            " 0.75205069 0.75330302 0.75152102 0.7470909  0.75396133 0.73495379\n",
            " 0.74550696 0.76400961 0.77490919 0.78761555 0.76259389 0.7694297\n",
            " 0.72604896 0.75110524 0.77772075 0.7802056  0.79217437 0.84113858\n",
            " 0.8481872  0.84738533 0.84800406 0.83681239 0.84291062 0.84149001\n",
            " 0.8549438  0.85710194 0.85154324 0.83997537 0.84845947 0.83770334\n",
            " 0.8340751  0.85091459 0.85217684 0.86294771 0.84688538 0.86537812\n",
            " 0.8801535  0.87956944 0.88017331 0.87596096 0.87550066 0.85846316\n",
            " 0.85410724 0.85729499 0.84654883 0.85036516 0.84800406 0.84052976\n",
            " 0.83216941 0.8363075  0.82845204 0.83284754 0.83605009 0.85448344\n",
            " 0.8458855  0.83638176 0.8424998  0.83079828 0.83707475 0.83428797\n",
            " 0.86000752 0.86988745 0.8498454  0.83986154 0.84374718 0.83670847\n",
            " 0.83473341 0.86179441 0.90933306 0.91148625 0.91633715 0.91552041\n",
            " 0.92435098 0.8815593  0.89755728 0.88400947 0.91648561 0.92943451\n",
            " 1.         0.95548493 0.96564376 0.95524216]\n",
            "3 day output [[0.936872]]\n",
            "4 day input [0.71560969 0.6980178  0.68374733 0.70072537 0.67585223 0.68232671\n",
            " 0.69057812 0.70026011 0.70264097 0.70277463 0.71291692 0.6972407\n",
            " 0.71090235 0.69477561 0.69816632 0.71085782 0.72535597 0.75205069\n",
            " 0.75330302 0.75152102 0.7470909  0.75396133 0.73495379 0.74550696\n",
            " 0.76400961 0.77490919 0.78761555 0.76259389 0.7694297  0.72604896\n",
            " 0.75110524 0.77772075 0.7802056  0.79217437 0.84113858 0.8481872\n",
            " 0.84738533 0.84800406 0.83681239 0.84291062 0.84149001 0.8549438\n",
            " 0.85710194 0.85154324 0.83997537 0.84845947 0.83770334 0.8340751\n",
            " 0.85091459 0.85217684 0.86294771 0.84688538 0.86537812 0.8801535\n",
            " 0.87956944 0.88017331 0.87596096 0.87550066 0.85846316 0.85410724\n",
            " 0.85729499 0.84654883 0.85036516 0.84800406 0.84052976 0.83216941\n",
            " 0.8363075  0.82845204 0.83284754 0.83605009 0.85448344 0.8458855\n",
            " 0.83638176 0.8424998  0.83079828 0.83707475 0.83428797 0.86000752\n",
            " 0.86988745 0.8498454  0.83986154 0.84374718 0.83670847 0.83473341\n",
            " 0.86179441 0.90933306 0.91148625 0.91633715 0.91552041 0.92435098\n",
            " 0.8815593  0.89755728 0.88400947 0.91648561 0.92943451 1.\n",
            " 0.95548493 0.96564376 0.95524216 0.93687201]\n",
            "4 day output [[0.915296]]\n",
            "5 day input [0.6980178  0.68374733 0.70072537 0.67585223 0.68232671 0.69057812\n",
            " 0.70026011 0.70264097 0.70277463 0.71291692 0.6972407  0.71090235\n",
            " 0.69477561 0.69816632 0.71085782 0.72535597 0.75205069 0.75330302\n",
            " 0.75152102 0.7470909  0.75396133 0.73495379 0.74550696 0.76400961\n",
            " 0.77490919 0.78761555 0.76259389 0.7694297  0.72604896 0.75110524\n",
            " 0.77772075 0.7802056  0.79217437 0.84113858 0.8481872  0.84738533\n",
            " 0.84800406 0.83681239 0.84291062 0.84149001 0.8549438  0.85710194\n",
            " 0.85154324 0.83997537 0.84845947 0.83770334 0.8340751  0.85091459\n",
            " 0.85217684 0.86294771 0.84688538 0.86537812 0.8801535  0.87956944\n",
            " 0.88017331 0.87596096 0.87550066 0.85846316 0.85410724 0.85729499\n",
            " 0.84654883 0.85036516 0.84800406 0.84052976 0.83216941 0.8363075\n",
            " 0.82845204 0.83284754 0.83605009 0.85448344 0.8458855  0.83638176\n",
            " 0.8424998  0.83079828 0.83707475 0.83428797 0.86000752 0.86988745\n",
            " 0.8498454  0.83986154 0.84374718 0.83670847 0.83473341 0.86179441\n",
            " 0.90933306 0.91148625 0.91633715 0.91552041 0.92435098 0.8815593\n",
            " 0.89755728 0.88400947 0.91648561 0.92943451 1.         0.95548493\n",
            " 0.96564376 0.95524216 0.93687201 0.91529602]\n",
            "5 day output [[0.8931585]]\n",
            "6 day input [0.68374733 0.70072537 0.67585223 0.68232671 0.69057812 0.70026011\n",
            " 0.70264097 0.70277463 0.71291692 0.6972407  0.71090235 0.69477561\n",
            " 0.69816632 0.71085782 0.72535597 0.75205069 0.75330302 0.75152102\n",
            " 0.7470909  0.75396133 0.73495379 0.74550696 0.76400961 0.77490919\n",
            " 0.78761555 0.76259389 0.7694297  0.72604896 0.75110524 0.77772075\n",
            " 0.7802056  0.79217437 0.84113858 0.8481872  0.84738533 0.84800406\n",
            " 0.83681239 0.84291062 0.84149001 0.8549438  0.85710194 0.85154324\n",
            " 0.83997537 0.84845947 0.83770334 0.8340751  0.85091459 0.85217684\n",
            " 0.86294771 0.84688538 0.86537812 0.8801535  0.87956944 0.88017331\n",
            " 0.87596096 0.87550066 0.85846316 0.85410724 0.85729499 0.84654883\n",
            " 0.85036516 0.84800406 0.84052976 0.83216941 0.8363075  0.82845204\n",
            " 0.83284754 0.83605009 0.85448344 0.8458855  0.83638176 0.8424998\n",
            " 0.83079828 0.83707475 0.83428797 0.86000752 0.86988745 0.8498454\n",
            " 0.83986154 0.84374718 0.83670847 0.83473341 0.86179441 0.90933306\n",
            " 0.91148625 0.91633715 0.91552041 0.92435098 0.8815593  0.89755728\n",
            " 0.88400947 0.91648561 0.92943451 1.         0.95548493 0.96564376\n",
            " 0.95524216 0.93687201 0.91529602 0.8931585 ]\n",
            "6 day output [[0.87247896]]\n",
            "7 day input [0.70072537 0.67585223 0.68232671 0.69057812 0.70026011 0.70264097\n",
            " 0.70277463 0.71291692 0.6972407  0.71090235 0.69477561 0.69816632\n",
            " 0.71085782 0.72535597 0.75205069 0.75330302 0.75152102 0.7470909\n",
            " 0.75396133 0.73495379 0.74550696 0.76400961 0.77490919 0.78761555\n",
            " 0.76259389 0.7694297  0.72604896 0.75110524 0.77772075 0.7802056\n",
            " 0.79217437 0.84113858 0.8481872  0.84738533 0.84800406 0.83681239\n",
            " 0.84291062 0.84149001 0.8549438  0.85710194 0.85154324 0.83997537\n",
            " 0.84845947 0.83770334 0.8340751  0.85091459 0.85217684 0.86294771\n",
            " 0.84688538 0.86537812 0.8801535  0.87956944 0.88017331 0.87596096\n",
            " 0.87550066 0.85846316 0.85410724 0.85729499 0.84654883 0.85036516\n",
            " 0.84800406 0.84052976 0.83216941 0.8363075  0.82845204 0.83284754\n",
            " 0.83605009 0.85448344 0.8458855  0.83638176 0.8424998  0.83079828\n",
            " 0.83707475 0.83428797 0.86000752 0.86988745 0.8498454  0.83986154\n",
            " 0.84374718 0.83670847 0.83473341 0.86179441 0.90933306 0.91148625\n",
            " 0.91633715 0.91552041 0.92435098 0.8815593  0.89755728 0.88400947\n",
            " 0.91648561 0.92943451 1.         0.95548493 0.96564376 0.95524216\n",
            " 0.93687201 0.91529602 0.8931585  0.87247896]\n",
            "7 day output [[0.854625]]\n",
            "8 day input [0.67585223 0.68232671 0.69057812 0.70026011 0.70264097 0.70277463\n",
            " 0.71291692 0.6972407  0.71090235 0.69477561 0.69816632 0.71085782\n",
            " 0.72535597 0.75205069 0.75330302 0.75152102 0.7470909  0.75396133\n",
            " 0.73495379 0.74550696 0.76400961 0.77490919 0.78761555 0.76259389\n",
            " 0.7694297  0.72604896 0.75110524 0.77772075 0.7802056  0.79217437\n",
            " 0.84113858 0.8481872  0.84738533 0.84800406 0.83681239 0.84291062\n",
            " 0.84149001 0.8549438  0.85710194 0.85154324 0.83997537 0.84845947\n",
            " 0.83770334 0.8340751  0.85091459 0.85217684 0.86294771 0.84688538\n",
            " 0.86537812 0.8801535  0.87956944 0.88017331 0.87596096 0.87550066\n",
            " 0.85846316 0.85410724 0.85729499 0.84654883 0.85036516 0.84800406\n",
            " 0.84052976 0.83216941 0.8363075  0.82845204 0.83284754 0.83605009\n",
            " 0.85448344 0.8458855  0.83638176 0.8424998  0.83079828 0.83707475\n",
            " 0.83428797 0.86000752 0.86988745 0.8498454  0.83986154 0.84374718\n",
            " 0.83670847 0.83473341 0.86179441 0.90933306 0.91148625 0.91633715\n",
            " 0.91552041 0.92435098 0.8815593  0.89755728 0.88400947 0.91648561\n",
            " 0.92943451 1.         0.95548493 0.96564376 0.95524216 0.93687201\n",
            " 0.91529602 0.8931585  0.87247896 0.85462499]\n",
            "8 day output [[0.84022325]]\n",
            "9 day input [0.68232671 0.69057812 0.70026011 0.70264097 0.70277463 0.71291692\n",
            " 0.6972407  0.71090235 0.69477561 0.69816632 0.71085782 0.72535597\n",
            " 0.75205069 0.75330302 0.75152102 0.7470909  0.75396133 0.73495379\n",
            " 0.74550696 0.76400961 0.77490919 0.78761555 0.76259389 0.7694297\n",
            " 0.72604896 0.75110524 0.77772075 0.7802056  0.79217437 0.84113858\n",
            " 0.8481872  0.84738533 0.84800406 0.83681239 0.84291062 0.84149001\n",
            " 0.8549438  0.85710194 0.85154324 0.83997537 0.84845947 0.83770334\n",
            " 0.8340751  0.85091459 0.85217684 0.86294771 0.84688538 0.86537812\n",
            " 0.8801535  0.87956944 0.88017331 0.87596096 0.87550066 0.85846316\n",
            " 0.85410724 0.85729499 0.84654883 0.85036516 0.84800406 0.84052976\n",
            " 0.83216941 0.8363075  0.82845204 0.83284754 0.83605009 0.85448344\n",
            " 0.8458855  0.83638176 0.8424998  0.83079828 0.83707475 0.83428797\n",
            " 0.86000752 0.86988745 0.8498454  0.83986154 0.84374718 0.83670847\n",
            " 0.83473341 0.86179441 0.90933306 0.91148625 0.91633715 0.91552041\n",
            " 0.92435098 0.8815593  0.89755728 0.88400947 0.91648561 0.92943451\n",
            " 1.         0.95548493 0.96564376 0.95524216 0.93687201 0.91529602\n",
            " 0.8931585  0.87247896 0.85462499 0.84022325]\n",
            "9 day output [[0.8292434]]\n",
            "10 day input [0.69057812 0.70026011 0.70264097 0.70277463 0.71291692 0.6972407\n",
            " 0.71090235 0.69477561 0.69816632 0.71085782 0.72535597 0.75205069\n",
            " 0.75330302 0.75152102 0.7470909  0.75396133 0.73495379 0.74550696\n",
            " 0.76400961 0.77490919 0.78761555 0.76259389 0.7694297  0.72604896\n",
            " 0.75110524 0.77772075 0.7802056  0.79217437 0.84113858 0.8481872\n",
            " 0.84738533 0.84800406 0.83681239 0.84291062 0.84149001 0.8549438\n",
            " 0.85710194 0.85154324 0.83997537 0.84845947 0.83770334 0.8340751\n",
            " 0.85091459 0.85217684 0.86294771 0.84688538 0.86537812 0.8801535\n",
            " 0.87956944 0.88017331 0.87596096 0.87550066 0.85846316 0.85410724\n",
            " 0.85729499 0.84654883 0.85036516 0.84800406 0.84052976 0.83216941\n",
            " 0.8363075  0.82845204 0.83284754 0.83605009 0.85448344 0.8458855\n",
            " 0.83638176 0.8424998  0.83079828 0.83707475 0.83428797 0.86000752\n",
            " 0.86988745 0.8498454  0.83986154 0.84374718 0.83670847 0.83473341\n",
            " 0.86179441 0.90933306 0.91148625 0.91633715 0.91552041 0.92435098\n",
            " 0.8815593  0.89755728 0.88400947 0.91648561 0.92943451 1.\n",
            " 0.95548493 0.96564376 0.95524216 0.93687201 0.91529602 0.8931585\n",
            " 0.87247896 0.85462499 0.84022325 0.82924342]\n",
            "10 day output [[0.8211818]]\n",
            "11 day input [0.70026011 0.70264097 0.70277463 0.71291692 0.6972407  0.71090235\n",
            " 0.69477561 0.69816632 0.71085782 0.72535597 0.75205069 0.75330302\n",
            " 0.75152102 0.7470909  0.75396133 0.73495379 0.74550696 0.76400961\n",
            " 0.77490919 0.78761555 0.76259389 0.7694297  0.72604896 0.75110524\n",
            " 0.77772075 0.7802056  0.79217437 0.84113858 0.8481872  0.84738533\n",
            " 0.84800406 0.83681239 0.84291062 0.84149001 0.8549438  0.85710194\n",
            " 0.85154324 0.83997537 0.84845947 0.83770334 0.8340751  0.85091459\n",
            " 0.85217684 0.86294771 0.84688538 0.86537812 0.8801535  0.87956944\n",
            " 0.88017331 0.87596096 0.87550066 0.85846316 0.85410724 0.85729499\n",
            " 0.84654883 0.85036516 0.84800406 0.84052976 0.83216941 0.8363075\n",
            " 0.82845204 0.83284754 0.83605009 0.85448344 0.8458855  0.83638176\n",
            " 0.8424998  0.83079828 0.83707475 0.83428797 0.86000752 0.86988745\n",
            " 0.8498454  0.83986154 0.84374718 0.83670847 0.83473341 0.86179441\n",
            " 0.90933306 0.91148625 0.91633715 0.91552041 0.92435098 0.8815593\n",
            " 0.89755728 0.88400947 0.91648561 0.92943451 1.         0.95548493\n",
            " 0.96564376 0.95524216 0.93687201 0.91529602 0.8931585  0.87247896\n",
            " 0.85462499 0.84022325 0.82924342 0.82118177]\n",
            "11 day output [[0.81527364]]\n",
            "12 day input [0.70264097 0.70277463 0.71291692 0.6972407  0.71090235 0.69477561\n",
            " 0.69816632 0.71085782 0.72535597 0.75205069 0.75330302 0.75152102\n",
            " 0.7470909  0.75396133 0.73495379 0.74550696 0.76400961 0.77490919\n",
            " 0.78761555 0.76259389 0.7694297  0.72604896 0.75110524 0.77772075\n",
            " 0.7802056  0.79217437 0.84113858 0.8481872  0.84738533 0.84800406\n",
            " 0.83681239 0.84291062 0.84149001 0.8549438  0.85710194 0.85154324\n",
            " 0.83997537 0.84845947 0.83770334 0.8340751  0.85091459 0.85217684\n",
            " 0.86294771 0.84688538 0.86537812 0.8801535  0.87956944 0.88017331\n",
            " 0.87596096 0.87550066 0.85846316 0.85410724 0.85729499 0.84654883\n",
            " 0.85036516 0.84800406 0.84052976 0.83216941 0.8363075  0.82845204\n",
            " 0.83284754 0.83605009 0.85448344 0.8458855  0.83638176 0.8424998\n",
            " 0.83079828 0.83707475 0.83428797 0.86000752 0.86988745 0.8498454\n",
            " 0.83986154 0.84374718 0.83670847 0.83473341 0.86179441 0.90933306\n",
            " 0.91148625 0.91633715 0.91552041 0.92435098 0.8815593  0.89755728\n",
            " 0.88400947 0.91648561 0.92943451 1.         0.95548493 0.96564376\n",
            " 0.95524216 0.93687201 0.91529602 0.8931585  0.87247896 0.85462499\n",
            " 0.84022325 0.82924342 0.82118177 0.81527364]\n",
            "12 day output [[0.81068146]]\n",
            "13 day input [0.70277463 0.71291692 0.6972407  0.71090235 0.69477561 0.69816632\n",
            " 0.71085782 0.72535597 0.75205069 0.75330302 0.75152102 0.7470909\n",
            " 0.75396133 0.73495379 0.74550696 0.76400961 0.77490919 0.78761555\n",
            " 0.76259389 0.7694297  0.72604896 0.75110524 0.77772075 0.7802056\n",
            " 0.79217437 0.84113858 0.8481872  0.84738533 0.84800406 0.83681239\n",
            " 0.84291062 0.84149001 0.8549438  0.85710194 0.85154324 0.83997537\n",
            " 0.84845947 0.83770334 0.8340751  0.85091459 0.85217684 0.86294771\n",
            " 0.84688538 0.86537812 0.8801535  0.87956944 0.88017331 0.87596096\n",
            " 0.87550066 0.85846316 0.85410724 0.85729499 0.84654883 0.85036516\n",
            " 0.84800406 0.84052976 0.83216941 0.8363075  0.82845204 0.83284754\n",
            " 0.83605009 0.85448344 0.8458855  0.83638176 0.8424998  0.83079828\n",
            " 0.83707475 0.83428797 0.86000752 0.86988745 0.8498454  0.83986154\n",
            " 0.84374718 0.83670847 0.83473341 0.86179441 0.90933306 0.91148625\n",
            " 0.91633715 0.91552041 0.92435098 0.8815593  0.89755728 0.88400947\n",
            " 0.91648561 0.92943451 1.         0.95548493 0.96564376 0.95524216\n",
            " 0.93687201 0.91529602 0.8931585  0.87247896 0.85462499 0.84022325\n",
            " 0.82924342 0.82118177 0.81527364 0.81068146]\n",
            "13 day output [[0.8066413]]\n",
            "14 day input [0.71291692 0.6972407  0.71090235 0.69477561 0.69816632 0.71085782\n",
            " 0.72535597 0.75205069 0.75330302 0.75152102 0.7470909  0.75396133\n",
            " 0.73495379 0.74550696 0.76400961 0.77490919 0.78761555 0.76259389\n",
            " 0.7694297  0.72604896 0.75110524 0.77772075 0.7802056  0.79217437\n",
            " 0.84113858 0.8481872  0.84738533 0.84800406 0.83681239 0.84291062\n",
            " 0.84149001 0.8549438  0.85710194 0.85154324 0.83997537 0.84845947\n",
            " 0.83770334 0.8340751  0.85091459 0.85217684 0.86294771 0.84688538\n",
            " 0.86537812 0.8801535  0.87956944 0.88017331 0.87596096 0.87550066\n",
            " 0.85846316 0.85410724 0.85729499 0.84654883 0.85036516 0.84800406\n",
            " 0.84052976 0.83216941 0.8363075  0.82845204 0.83284754 0.83605009\n",
            " 0.85448344 0.8458855  0.83638176 0.8424998  0.83079828 0.83707475\n",
            " 0.83428797 0.86000752 0.86988745 0.8498454  0.83986154 0.84374718\n",
            " 0.83670847 0.83473341 0.86179441 0.90933306 0.91148625 0.91633715\n",
            " 0.91552041 0.92435098 0.8815593  0.89755728 0.88400947 0.91648561\n",
            " 0.92943451 1.         0.95548493 0.96564376 0.95524216 0.93687201\n",
            " 0.91529602 0.8931585  0.87247896 0.85462499 0.84022325 0.82924342\n",
            " 0.82118177 0.81527364 0.81068146 0.80664128]\n",
            "14 day output [[0.8025554]]\n",
            "15 day input [0.6972407  0.71090235 0.69477561 0.69816632 0.71085782 0.72535597\n",
            " 0.75205069 0.75330302 0.75152102 0.7470909  0.75396133 0.73495379\n",
            " 0.74550696 0.76400961 0.77490919 0.78761555 0.76259389 0.7694297\n",
            " 0.72604896 0.75110524 0.77772075 0.7802056  0.79217437 0.84113858\n",
            " 0.8481872  0.84738533 0.84800406 0.83681239 0.84291062 0.84149001\n",
            " 0.8549438  0.85710194 0.85154324 0.83997537 0.84845947 0.83770334\n",
            " 0.8340751  0.85091459 0.85217684 0.86294771 0.84688538 0.86537812\n",
            " 0.8801535  0.87956944 0.88017331 0.87596096 0.87550066 0.85846316\n",
            " 0.85410724 0.85729499 0.84654883 0.85036516 0.84800406 0.84052976\n",
            " 0.83216941 0.8363075  0.82845204 0.83284754 0.83605009 0.85448344\n",
            " 0.8458855  0.83638176 0.8424998  0.83079828 0.83707475 0.83428797\n",
            " 0.86000752 0.86988745 0.8498454  0.83986154 0.84374718 0.83670847\n",
            " 0.83473341 0.86179441 0.90933306 0.91148625 0.91633715 0.91552041\n",
            " 0.92435098 0.8815593  0.89755728 0.88400947 0.91648561 0.92943451\n",
            " 1.         0.95548493 0.96564376 0.95524216 0.93687201 0.91529602\n",
            " 0.8931585  0.87247896 0.85462499 0.84022325 0.82924342 0.82118177\n",
            " 0.81527364 0.81068146 0.80664128 0.80255538]\n",
            "15 day output [[0.7980371]]\n",
            "16 day input [0.71090235 0.69477561 0.69816632 0.71085782 0.72535597 0.75205069\n",
            " 0.75330302 0.75152102 0.7470909  0.75396133 0.73495379 0.74550696\n",
            " 0.76400961 0.77490919 0.78761555 0.76259389 0.7694297  0.72604896\n",
            " 0.75110524 0.77772075 0.7802056  0.79217437 0.84113858 0.8481872\n",
            " 0.84738533 0.84800406 0.83681239 0.84291062 0.84149001 0.8549438\n",
            " 0.85710194 0.85154324 0.83997537 0.84845947 0.83770334 0.8340751\n",
            " 0.85091459 0.85217684 0.86294771 0.84688538 0.86537812 0.8801535\n",
            " 0.87956944 0.88017331 0.87596096 0.87550066 0.85846316 0.85410724\n",
            " 0.85729499 0.84654883 0.85036516 0.84800406 0.84052976 0.83216941\n",
            " 0.8363075  0.82845204 0.83284754 0.83605009 0.85448344 0.8458855\n",
            " 0.83638176 0.8424998  0.83079828 0.83707475 0.83428797 0.86000752\n",
            " 0.86988745 0.8498454  0.83986154 0.84374718 0.83670847 0.83473341\n",
            " 0.86179441 0.90933306 0.91148625 0.91633715 0.91552041 0.92435098\n",
            " 0.8815593  0.89755728 0.88400947 0.91648561 0.92943451 1.\n",
            " 0.95548493 0.96564376 0.95524216 0.93687201 0.91529602 0.8931585\n",
            " 0.87247896 0.85462499 0.84022325 0.82924342 0.82118177 0.81527364\n",
            " 0.81068146 0.80664128 0.80255538 0.79803711]\n",
            "16 day output [[0.79291195]]\n",
            "17 day input [0.69477561 0.69816632 0.71085782 0.72535597 0.75205069 0.75330302\n",
            " 0.75152102 0.7470909  0.75396133 0.73495379 0.74550696 0.76400961\n",
            " 0.77490919 0.78761555 0.76259389 0.7694297  0.72604896 0.75110524\n",
            " 0.77772075 0.7802056  0.79217437 0.84113858 0.8481872  0.84738533\n",
            " 0.84800406 0.83681239 0.84291062 0.84149001 0.8549438  0.85710194\n",
            " 0.85154324 0.83997537 0.84845947 0.83770334 0.8340751  0.85091459\n",
            " 0.85217684 0.86294771 0.84688538 0.86537812 0.8801535  0.87956944\n",
            " 0.88017331 0.87596096 0.87550066 0.85846316 0.85410724 0.85729499\n",
            " 0.84654883 0.85036516 0.84800406 0.84052976 0.83216941 0.8363075\n",
            " 0.82845204 0.83284754 0.83605009 0.85448344 0.8458855  0.83638176\n",
            " 0.8424998  0.83079828 0.83707475 0.83428797 0.86000752 0.86988745\n",
            " 0.8498454  0.83986154 0.84374718 0.83670847 0.83473341 0.86179441\n",
            " 0.90933306 0.91148625 0.91633715 0.91552041 0.92435098 0.8815593\n",
            " 0.89755728 0.88400947 0.91648561 0.92943451 1.         0.95548493\n",
            " 0.96564376 0.95524216 0.93687201 0.91529602 0.8931585  0.87247896\n",
            " 0.85462499 0.84022325 0.82924342 0.82118177 0.81527364 0.81068146\n",
            " 0.80664128 0.80255538 0.79803711 0.79291195]\n",
            "17 day output [[0.7871858]]\n",
            "18 day input [0.69816632 0.71085782 0.72535597 0.75205069 0.75330302 0.75152102\n",
            " 0.7470909  0.75396133 0.73495379 0.74550696 0.76400961 0.77490919\n",
            " 0.78761555 0.76259389 0.7694297  0.72604896 0.75110524 0.77772075\n",
            " 0.7802056  0.79217437 0.84113858 0.8481872  0.84738533 0.84800406\n",
            " 0.83681239 0.84291062 0.84149001 0.8549438  0.85710194 0.85154324\n",
            " 0.83997537 0.84845947 0.83770334 0.8340751  0.85091459 0.85217684\n",
            " 0.86294771 0.84688538 0.86537812 0.8801535  0.87956944 0.88017331\n",
            " 0.87596096 0.87550066 0.85846316 0.85410724 0.85729499 0.84654883\n",
            " 0.85036516 0.84800406 0.84052976 0.83216941 0.8363075  0.82845204\n",
            " 0.83284754 0.83605009 0.85448344 0.8458855  0.83638176 0.8424998\n",
            " 0.83079828 0.83707475 0.83428797 0.86000752 0.86988745 0.8498454\n",
            " 0.83986154 0.84374718 0.83670847 0.83473341 0.86179441 0.90933306\n",
            " 0.91148625 0.91633715 0.91552041 0.92435098 0.8815593  0.89755728\n",
            " 0.88400947 0.91648561 0.92943451 1.         0.95548493 0.96564376\n",
            " 0.95524216 0.93687201 0.91529602 0.8931585  0.87247896 0.85462499\n",
            " 0.84022325 0.82924342 0.82118177 0.81527364 0.81068146 0.80664128\n",
            " 0.80255538 0.79803711 0.79291195 0.78718579]\n",
            "18 day output [[0.7809964]]\n",
            "19 day input [0.71085782 0.72535597 0.75205069 0.75330302 0.75152102 0.7470909\n",
            " 0.75396133 0.73495379 0.74550696 0.76400961 0.77490919 0.78761555\n",
            " 0.76259389 0.7694297  0.72604896 0.75110524 0.77772075 0.7802056\n",
            " 0.79217437 0.84113858 0.8481872  0.84738533 0.84800406 0.83681239\n",
            " 0.84291062 0.84149001 0.8549438  0.85710194 0.85154324 0.83997537\n",
            " 0.84845947 0.83770334 0.8340751  0.85091459 0.85217684 0.86294771\n",
            " 0.84688538 0.86537812 0.8801535  0.87956944 0.88017331 0.87596096\n",
            " 0.87550066 0.85846316 0.85410724 0.85729499 0.84654883 0.85036516\n",
            " 0.84800406 0.84052976 0.83216941 0.8363075  0.82845204 0.83284754\n",
            " 0.83605009 0.85448344 0.8458855  0.83638176 0.8424998  0.83079828\n",
            " 0.83707475 0.83428797 0.86000752 0.86988745 0.8498454  0.83986154\n",
            " 0.84374718 0.83670847 0.83473341 0.86179441 0.90933306 0.91148625\n",
            " 0.91633715 0.91552041 0.92435098 0.8815593  0.89755728 0.88400947\n",
            " 0.91648561 0.92943451 1.         0.95548493 0.96564376 0.95524216\n",
            " 0.93687201 0.91529602 0.8931585  0.87247896 0.85462499 0.84022325\n",
            " 0.82924342 0.82118177 0.81527364 0.81068146 0.80664128 0.80255538\n",
            " 0.79803711 0.79291195 0.78718579 0.78099638]\n",
            "19 day output [[0.7745556]]\n",
            "20 day input [0.72535597 0.75205069 0.75330302 0.75152102 0.7470909  0.75396133\n",
            " 0.73495379 0.74550696 0.76400961 0.77490919 0.78761555 0.76259389\n",
            " 0.7694297  0.72604896 0.75110524 0.77772075 0.7802056  0.79217437\n",
            " 0.84113858 0.8481872  0.84738533 0.84800406 0.83681239 0.84291062\n",
            " 0.84149001 0.8549438  0.85710194 0.85154324 0.83997537 0.84845947\n",
            " 0.83770334 0.8340751  0.85091459 0.85217684 0.86294771 0.84688538\n",
            " 0.86537812 0.8801535  0.87956944 0.88017331 0.87596096 0.87550066\n",
            " 0.85846316 0.85410724 0.85729499 0.84654883 0.85036516 0.84800406\n",
            " 0.84052976 0.83216941 0.8363075  0.82845204 0.83284754 0.83605009\n",
            " 0.85448344 0.8458855  0.83638176 0.8424998  0.83079828 0.83707475\n",
            " 0.83428797 0.86000752 0.86988745 0.8498454  0.83986154 0.84374718\n",
            " 0.83670847 0.83473341 0.86179441 0.90933306 0.91148625 0.91633715\n",
            " 0.91552041 0.92435098 0.8815593  0.89755728 0.88400947 0.91648561\n",
            " 0.92943451 1.         0.95548493 0.96564376 0.95524216 0.93687201\n",
            " 0.91529602 0.8931585  0.87247896 0.85462499 0.84022325 0.82924342\n",
            " 0.82118177 0.81527364 0.81068146 0.80664128 0.80255538 0.79803711\n",
            " 0.79291195 0.78718579 0.78099638 0.77455562]\n",
            "20 day output [[0.7680965]]\n",
            "21 day input [0.75205069 0.75330302 0.75152102 0.7470909  0.75396133 0.73495379\n",
            " 0.74550696 0.76400961 0.77490919 0.78761555 0.76259389 0.7694297\n",
            " 0.72604896 0.75110524 0.77772075 0.7802056  0.79217437 0.84113858\n",
            " 0.8481872  0.84738533 0.84800406 0.83681239 0.84291062 0.84149001\n",
            " 0.8549438  0.85710194 0.85154324 0.83997537 0.84845947 0.83770334\n",
            " 0.8340751  0.85091459 0.85217684 0.86294771 0.84688538 0.86537812\n",
            " 0.8801535  0.87956944 0.88017331 0.87596096 0.87550066 0.85846316\n",
            " 0.85410724 0.85729499 0.84654883 0.85036516 0.84800406 0.84052976\n",
            " 0.83216941 0.8363075  0.82845204 0.83284754 0.83605009 0.85448344\n",
            " 0.8458855  0.83638176 0.8424998  0.83079828 0.83707475 0.83428797\n",
            " 0.86000752 0.86988745 0.8498454  0.83986154 0.84374718 0.83670847\n",
            " 0.83473341 0.86179441 0.90933306 0.91148625 0.91633715 0.91552041\n",
            " 0.92435098 0.8815593  0.89755728 0.88400947 0.91648561 0.92943451\n",
            " 1.         0.95548493 0.96564376 0.95524216 0.93687201 0.91529602\n",
            " 0.8931585  0.87247896 0.85462499 0.84022325 0.82924342 0.82118177\n",
            " 0.81527364 0.81068146 0.80664128 0.80255538 0.79803711 0.79291195\n",
            " 0.78718579 0.78099638 0.77455562 0.76809651]\n",
            "21 day output [[0.76183087]]\n",
            "22 day input [0.75330302 0.75152102 0.7470909  0.75396133 0.73495379 0.74550696\n",
            " 0.76400961 0.77490919 0.78761555 0.76259389 0.7694297  0.72604896\n",
            " 0.75110524 0.77772075 0.7802056  0.79217437 0.84113858 0.8481872\n",
            " 0.84738533 0.84800406 0.83681239 0.84291062 0.84149001 0.8549438\n",
            " 0.85710194 0.85154324 0.83997537 0.84845947 0.83770334 0.8340751\n",
            " 0.85091459 0.85217684 0.86294771 0.84688538 0.86537812 0.8801535\n",
            " 0.87956944 0.88017331 0.87596096 0.87550066 0.85846316 0.85410724\n",
            " 0.85729499 0.84654883 0.85036516 0.84800406 0.84052976 0.83216941\n",
            " 0.8363075  0.82845204 0.83284754 0.83605009 0.85448344 0.8458855\n",
            " 0.83638176 0.8424998  0.83079828 0.83707475 0.83428797 0.86000752\n",
            " 0.86988745 0.8498454  0.83986154 0.84374718 0.83670847 0.83473341\n",
            " 0.86179441 0.90933306 0.91148625 0.91633715 0.91552041 0.92435098\n",
            " 0.8815593  0.89755728 0.88400947 0.91648561 0.92943451 1.\n",
            " 0.95548493 0.96564376 0.95524216 0.93687201 0.91529602 0.8931585\n",
            " 0.87247896 0.85462499 0.84022325 0.82924342 0.82118177 0.81527364\n",
            " 0.81068146 0.80664128 0.80255538 0.79803711 0.79291195 0.78718579\n",
            " 0.78099638 0.77455562 0.76809651 0.76183087]\n",
            "22 day output [[0.75592154]]\n",
            "23 day input [0.75152102 0.7470909  0.75396133 0.73495379 0.74550696 0.76400961\n",
            " 0.77490919 0.78761555 0.76259389 0.7694297  0.72604896 0.75110524\n",
            " 0.77772075 0.7802056  0.79217437 0.84113858 0.8481872  0.84738533\n",
            " 0.84800406 0.83681239 0.84291062 0.84149001 0.8549438  0.85710194\n",
            " 0.85154324 0.83997537 0.84845947 0.83770334 0.8340751  0.85091459\n",
            " 0.85217684 0.86294771 0.84688538 0.86537812 0.8801535  0.87956944\n",
            " 0.88017331 0.87596096 0.87550066 0.85846316 0.85410724 0.85729499\n",
            " 0.84654883 0.85036516 0.84800406 0.84052976 0.83216941 0.8363075\n",
            " 0.82845204 0.83284754 0.83605009 0.85448344 0.8458855  0.83638176\n",
            " 0.8424998  0.83079828 0.83707475 0.83428797 0.86000752 0.86988745\n",
            " 0.8498454  0.83986154 0.84374718 0.83670847 0.83473341 0.86179441\n",
            " 0.90933306 0.91148625 0.91633715 0.91552041 0.92435098 0.8815593\n",
            " 0.89755728 0.88400947 0.91648561 0.92943451 1.         0.95548493\n",
            " 0.96564376 0.95524216 0.93687201 0.91529602 0.8931585  0.87247896\n",
            " 0.85462499 0.84022325 0.82924342 0.82118177 0.81527364 0.81068146\n",
            " 0.80664128 0.80255538 0.79803711 0.79291195 0.78718579 0.78099638\n",
            " 0.77455562 0.76809651 0.76183087 0.75592154]\n",
            "23 day output [[0.7504683]]\n",
            "24 day input [0.7470909  0.75396133 0.73495379 0.74550696 0.76400961 0.77490919\n",
            " 0.78761555 0.76259389 0.7694297  0.72604896 0.75110524 0.77772075\n",
            " 0.7802056  0.79217437 0.84113858 0.8481872  0.84738533 0.84800406\n",
            " 0.83681239 0.84291062 0.84149001 0.8549438  0.85710194 0.85154324\n",
            " 0.83997537 0.84845947 0.83770334 0.8340751  0.85091459 0.85217684\n",
            " 0.86294771 0.84688538 0.86537812 0.8801535  0.87956944 0.88017331\n",
            " 0.87596096 0.87550066 0.85846316 0.85410724 0.85729499 0.84654883\n",
            " 0.85036516 0.84800406 0.84052976 0.83216941 0.8363075  0.82845204\n",
            " 0.83284754 0.83605009 0.85448344 0.8458855  0.83638176 0.8424998\n",
            " 0.83079828 0.83707475 0.83428797 0.86000752 0.86988745 0.8498454\n",
            " 0.83986154 0.84374718 0.83670847 0.83473341 0.86179441 0.90933306\n",
            " 0.91148625 0.91633715 0.91552041 0.92435098 0.8815593  0.89755728\n",
            " 0.88400947 0.91648561 0.92943451 1.         0.95548493 0.96564376\n",
            " 0.95524216 0.93687201 0.91529602 0.8931585  0.87247896 0.85462499\n",
            " 0.84022325 0.82924342 0.82118177 0.81527364 0.81068146 0.80664128\n",
            " 0.80255538 0.79803711 0.79291195 0.78718579 0.78099638 0.77455562\n",
            " 0.76809651 0.76183087 0.75592154 0.75046831]\n",
            "24 day output [[0.7455089]]\n",
            "25 day input [0.75396133 0.73495379 0.74550696 0.76400961 0.77490919 0.78761555\n",
            " 0.76259389 0.7694297  0.72604896 0.75110524 0.77772075 0.7802056\n",
            " 0.79217437 0.84113858 0.8481872  0.84738533 0.84800406 0.83681239\n",
            " 0.84291062 0.84149001 0.8549438  0.85710194 0.85154324 0.83997537\n",
            " 0.84845947 0.83770334 0.8340751  0.85091459 0.85217684 0.86294771\n",
            " 0.84688538 0.86537812 0.8801535  0.87956944 0.88017331 0.87596096\n",
            " 0.87550066 0.85846316 0.85410724 0.85729499 0.84654883 0.85036516\n",
            " 0.84800406 0.84052976 0.83216941 0.8363075  0.82845204 0.83284754\n",
            " 0.83605009 0.85448344 0.8458855  0.83638176 0.8424998  0.83079828\n",
            " 0.83707475 0.83428797 0.86000752 0.86988745 0.8498454  0.83986154\n",
            " 0.84374718 0.83670847 0.83473341 0.86179441 0.90933306 0.91148625\n",
            " 0.91633715 0.91552041 0.92435098 0.8815593  0.89755728 0.88400947\n",
            " 0.91648561 0.92943451 1.         0.95548493 0.96564376 0.95524216\n",
            " 0.93687201 0.91529602 0.8931585  0.87247896 0.85462499 0.84022325\n",
            " 0.82924342 0.82118177 0.81527364 0.81068146 0.80664128 0.80255538\n",
            " 0.79803711 0.79291195 0.78718579 0.78099638 0.77455562 0.76809651\n",
            " 0.76183087 0.75592154 0.75046831 0.74550891]\n",
            "25 day output [[0.7410279]]\n",
            "26 day input [0.73495379 0.74550696 0.76400961 0.77490919 0.78761555 0.76259389\n",
            " 0.7694297  0.72604896 0.75110524 0.77772075 0.7802056  0.79217437\n",
            " 0.84113858 0.8481872  0.84738533 0.84800406 0.83681239 0.84291062\n",
            " 0.84149001 0.8549438  0.85710194 0.85154324 0.83997537 0.84845947\n",
            " 0.83770334 0.8340751  0.85091459 0.85217684 0.86294771 0.84688538\n",
            " 0.86537812 0.8801535  0.87956944 0.88017331 0.87596096 0.87550066\n",
            " 0.85846316 0.85410724 0.85729499 0.84654883 0.85036516 0.84800406\n",
            " 0.84052976 0.83216941 0.8363075  0.82845204 0.83284754 0.83605009\n",
            " 0.85448344 0.8458855  0.83638176 0.8424998  0.83079828 0.83707475\n",
            " 0.83428797 0.86000752 0.86988745 0.8498454  0.83986154 0.84374718\n",
            " 0.83670847 0.83473341 0.86179441 0.90933306 0.91148625 0.91633715\n",
            " 0.91552041 0.92435098 0.8815593  0.89755728 0.88400947 0.91648561\n",
            " 0.92943451 1.         0.95548493 0.96564376 0.95524216 0.93687201\n",
            " 0.91529602 0.8931585  0.87247896 0.85462499 0.84022325 0.82924342\n",
            " 0.82118177 0.81527364 0.81068146 0.80664128 0.80255538 0.79803711\n",
            " 0.79291195 0.78718579 0.78099638 0.77455562 0.76809651 0.76183087\n",
            " 0.75592154 0.75046831 0.74550891 0.74102789]\n",
            "26 day output [[0.73697174]]\n",
            "27 day input [0.74550696 0.76400961 0.77490919 0.78761555 0.76259389 0.7694297\n",
            " 0.72604896 0.75110524 0.77772075 0.7802056  0.79217437 0.84113858\n",
            " 0.8481872  0.84738533 0.84800406 0.83681239 0.84291062 0.84149001\n",
            " 0.8549438  0.85710194 0.85154324 0.83997537 0.84845947 0.83770334\n",
            " 0.8340751  0.85091459 0.85217684 0.86294771 0.84688538 0.86537812\n",
            " 0.8801535  0.87956944 0.88017331 0.87596096 0.87550066 0.85846316\n",
            " 0.85410724 0.85729499 0.84654883 0.85036516 0.84800406 0.84052976\n",
            " 0.83216941 0.8363075  0.82845204 0.83284754 0.83605009 0.85448344\n",
            " 0.8458855  0.83638176 0.8424998  0.83079828 0.83707475 0.83428797\n",
            " 0.86000752 0.86988745 0.8498454  0.83986154 0.84374718 0.83670847\n",
            " 0.83473341 0.86179441 0.90933306 0.91148625 0.91633715 0.91552041\n",
            " 0.92435098 0.8815593  0.89755728 0.88400947 0.91648561 0.92943451\n",
            " 1.         0.95548493 0.96564376 0.95524216 0.93687201 0.91529602\n",
            " 0.8931585  0.87247896 0.85462499 0.84022325 0.82924342 0.82118177\n",
            " 0.81527364 0.81068146 0.80664128 0.80255538 0.79803711 0.79291195\n",
            " 0.78718579 0.78099638 0.77455562 0.76809651 0.76183087 0.75592154\n",
            " 0.75046831 0.74550891 0.74102789 0.73697174]\n",
            "27 day output [[0.7332647]]\n",
            "28 day input [0.76400961 0.77490919 0.78761555 0.76259389 0.7694297  0.72604896\n",
            " 0.75110524 0.77772075 0.7802056  0.79217437 0.84113858 0.8481872\n",
            " 0.84738533 0.84800406 0.83681239 0.84291062 0.84149001 0.8549438\n",
            " 0.85710194 0.85154324 0.83997537 0.84845947 0.83770334 0.8340751\n",
            " 0.85091459 0.85217684 0.86294771 0.84688538 0.86537812 0.8801535\n",
            " 0.87956944 0.88017331 0.87596096 0.87550066 0.85846316 0.85410724\n",
            " 0.85729499 0.84654883 0.85036516 0.84800406 0.84052976 0.83216941\n",
            " 0.8363075  0.82845204 0.83284754 0.83605009 0.85448344 0.8458855\n",
            " 0.83638176 0.8424998  0.83079828 0.83707475 0.83428797 0.86000752\n",
            " 0.86988745 0.8498454  0.83986154 0.84374718 0.83670847 0.83473341\n",
            " 0.86179441 0.90933306 0.91148625 0.91633715 0.91552041 0.92435098\n",
            " 0.8815593  0.89755728 0.88400947 0.91648561 0.92943451 1.\n",
            " 0.95548493 0.96564376 0.95524216 0.93687201 0.91529602 0.8931585\n",
            " 0.87247896 0.85462499 0.84022325 0.82924342 0.82118177 0.81527364\n",
            " 0.81068146 0.80664128 0.80255538 0.79803711 0.79291195 0.78718579\n",
            " 0.78099638 0.77455562 0.76809651 0.76183087 0.75592154 0.75046831\n",
            " 0.74550891 0.74102789 0.73697174 0.73326468]\n",
            "28 day output [[0.72982585]]\n",
            "29 day input [0.77490919 0.78761555 0.76259389 0.7694297  0.72604896 0.75110524\n",
            " 0.77772075 0.7802056  0.79217437 0.84113858 0.8481872  0.84738533\n",
            " 0.84800406 0.83681239 0.84291062 0.84149001 0.8549438  0.85710194\n",
            " 0.85154324 0.83997537 0.84845947 0.83770334 0.8340751  0.85091459\n",
            " 0.85217684 0.86294771 0.84688538 0.86537812 0.8801535  0.87956944\n",
            " 0.88017331 0.87596096 0.87550066 0.85846316 0.85410724 0.85729499\n",
            " 0.84654883 0.85036516 0.84800406 0.84052976 0.83216941 0.8363075\n",
            " 0.82845204 0.83284754 0.83605009 0.85448344 0.8458855  0.83638176\n",
            " 0.8424998  0.83079828 0.83707475 0.83428797 0.86000752 0.86988745\n",
            " 0.8498454  0.83986154 0.84374718 0.83670847 0.83473341 0.86179441\n",
            " 0.90933306 0.91148625 0.91633715 0.91552041 0.92435098 0.8815593\n",
            " 0.89755728 0.88400947 0.91648561 0.92943451 1.         0.95548493\n",
            " 0.96564376 0.95524216 0.93687201 0.91529602 0.8931585  0.87247896\n",
            " 0.85462499 0.84022325 0.82924342 0.82118177 0.81527364 0.81068146\n",
            " 0.80664128 0.80255538 0.79803711 0.79291195 0.78718579 0.78099638\n",
            " 0.77455562 0.76809651 0.76183087 0.75592154 0.75046831 0.74550891\n",
            " 0.74102789 0.73697174 0.73326468 0.72982585]\n",
            "29 day output [[0.7265792]]\n",
            "[[0.955484926700592], [0.9656437635421753], [0.9552421569824219], [0.9368720054626465], [0.9152960181236267], [0.893158495426178], [0.8724789619445801], [0.8546249866485596], [0.8402232527732849], [0.8292434215545654], [0.8211817741394043], [0.815273642539978], [0.8106814622879028], [0.8066412806510925], [0.8025553822517395], [0.7980371117591858], [0.792911946773529], [0.787185788154602], [0.7809963822364807], [0.7745556235313416], [0.7680965065956116], [0.7618308663368225], [0.7559215426445007], [0.7504683136940002], [0.7455089092254639], [0.7410278916358948], [0.7369717359542847], [0.733264684677124], [0.7298258543014526], [0.7265791893005371]]\n"
          ]
        }
      ]
    },
    {
      "cell_type": "code",
      "source": [
        "day_new=np.arange(1,101)\n",
        "day_pred=np.arange(101,131)"
      ],
      "metadata": {
        "id": "VFGBoLgzh7hS"
      },
      "execution_count": 34,
      "outputs": []
    },
    {
      "cell_type": "code",
      "source": [
        "import matplotlib.pyplot as plt"
      ],
      "metadata": {
        "id": "kiLpnz5Yh9gJ"
      },
      "execution_count": 35,
      "outputs": []
    },
    {
      "cell_type": "code",
      "source": [
        "len(df1)"
      ],
      "metadata": {
        "colab": {
          "base_uri": "https://localhost:8080/"
        },
        "id": "VxPpbsrvh_Nw",
        "outputId": "6cb07a11-3d07-4209-e049-3933a339f1d9"
      },
      "execution_count": 36,
      "outputs": [
        {
          "output_type": "execute_result",
          "data": {
            "text/plain": [
              "4144"
            ]
          },
          "metadata": {},
          "execution_count": 36
        }
      ]
    },
    {
      "cell_type": "code",
      "source": [
        "plt.plot(day_new,scaler.inverse_transform(df1[4044:]))\n",
        "plt.plot(day_pred,scaler.inverse_transform(lst_output))"
      ],
      "metadata": {
        "colab": {
          "base_uri": "https://localhost:8080/",
          "height": 285
        },
        "id": "XN2bksU2iCKZ",
        "outputId": "b1d09d71-114f-406c-ac0c-ee960ab00223"
      },
      "execution_count": 37,
      "outputs": [
        {
          "output_type": "execute_result",
          "data": {
            "text/plain": [
              "[<matplotlib.lines.Line2D at 0x7f00c460f0d0>]"
            ]
          },
          "metadata": {},
          "execution_count": 37
        },
        {
          "output_type": "display_data",
          "data": {
            "text/plain": [
              "<Figure size 432x288 with 1 Axes>"
            ],
            "image/png": "[encoded data removed]"
          },
          "metadata": {
            "needs_background": "light"
          }
        }
      ]
    },
    {
      "cell_type": "code",
      "source": [
        "df3=df1.tolist()\n",
        "df3.extend(lst_output)\n",
        "plt.plot(df3[1200:])"
      ],
      "metadata": {
        "colab": {
          "base_uri": "https://localhost:8080/",
          "height": 282
        },
        "id": "pYc_5rtLiEqs",
        "outputId": "51a58ce5-e10d-4f13-e7be-0dd11f3b2bb0"
      },
      "execution_count": 38,
      "outputs": [
        {
          "output_type": "execute_result",
          "data": {
            "text/plain": [
              "[<matplotlib.lines.Line2D at 0x7f00c4637bb0>]"
            ]
          },
          "metadata": {},
          "execution_count": 38
        },
        {
          "output_type": "display_data",
          "data": {
            "text/plain": [
              "<Figure size 432x288 with 1 Axes>"
            ],
            "image/png": "[encoded data removed]"
          },
          "metadata": {
            "needs_background": "light"
          }
        }
      ]
    },
    {
      "cell_type": "code",
      "source": [
        "df3=scaler.inverse_transform(df3).tolist()"
      ],
      "metadata": {
        "id": "UVRyoYy9iHCl"
      },
      "execution_count": 39,
      "outputs": []
    },
    {
      "cell_type": "code",
      "source": [
        "plt.plot(df3)"
      ],
      "metadata": {
        "colab": {
          "base_uri": "https://localhost:8080/",
          "height": 282
        },
        "id": "cHjsQiPxiI09",
        "outputId": "fe444629-fec7-45f3-9d38-f02079581473"
      },
      "execution_count": 40,
      "outputs": [
        {
          "output_type": "execute_result",
          "data": {
            "text/plain": [
              "[<matplotlib.lines.Line2D at 0x7f00c46c1c10>]"
            ]
          },
          "metadata": {},
          "execution_count": 40
        },
        {
          "output_type": "display_data",
          "data": {
            "text/plain": [
              "<Figure size 432x288 with 1 Axes>"
            ],
            "image/png": "[encoded data removed]"
          },
          "metadata": {
            "needs_background": "light"
          }
        }
      ]
    }
  ]
}